{
 "cells": [
  {
   "cell_type": "markdown",
   "metadata": {},
   "source": [
    "# 1. importing libraries"
   ]
  },
  {
   "cell_type": "code",
   "execution_count": 42,
   "metadata": {},
   "outputs": [],
   "source": [
    "import pandas as pd\n",
    "import numpy as np\n",
    "import sklearn as sk\n",
    "import seaborn as sns\n",
    "import matplotlib.pyplot as plt "
   ]
  },
  {
   "cell_type": "markdown",
   "metadata": {},
   "source": [
    "# 2. reading csv "
   ]
  },
  {
   "cell_type": "code",
   "execution_count": 43,
   "metadata": {},
   "outputs": [
    {
     "data": {
      "text/html": [
       "<div>\n",
       "<style scoped>\n",
       "    .dataframe tbody tr th:only-of-type {\n",
       "        vertical-align: middle;\n",
       "    }\n",
       "\n",
       "    .dataframe tbody tr th {\n",
       "        vertical-align: top;\n",
       "    }\n",
       "\n",
       "    .dataframe thead th {\n",
       "        text-align: right;\n",
       "    }\n",
       "</style>\n",
       "<table border=\"1\" class=\"dataframe\">\n",
       "  <thead>\n",
       "    <tr style=\"text-align: right;\">\n",
       "      <th></th>\n",
       "      <th>Date</th>\n",
       "      <th>Open</th>\n",
       "      <th>High</th>\n",
       "      <th>Low</th>\n",
       "      <th>Close</th>\n",
       "      <th>Volume</th>\n",
       "    </tr>\n",
       "  </thead>\n",
       "  <tbody>\n",
       "    <tr>\n",
       "      <th>0</th>\n",
       "      <td>2016-01-04</td>\n",
       "      <td>1099.59</td>\n",
       "      <td>1110.75</td>\n",
       "      <td>1093.85</td>\n",
       "      <td>1109.64</td>\n",
       "      <td>66545000</td>\n",
       "    </tr>\n",
       "    <tr>\n",
       "      <th>1</th>\n",
       "      <td>2016-01-05</td>\n",
       "      <td>1117.47</td>\n",
       "      <td>1130.57</td>\n",
       "      <td>1112.75</td>\n",
       "      <td>1125.85</td>\n",
       "      <td>41227200</td>\n",
       "    </tr>\n",
       "    <tr>\n",
       "      <th>2</th>\n",
       "      <td>2016-01-06</td>\n",
       "      <td>1116.63</td>\n",
       "      <td>1138.68</td>\n",
       "      <td>1116.10</td>\n",
       "      <td>1133.04</td>\n",
       "      <td>42316800</td>\n",
       "    </tr>\n",
       "    <tr>\n",
       "      <th>3</th>\n",
       "      <td>2016-01-07</td>\n",
       "      <td>1122.00</td>\n",
       "      <td>1149.76</td>\n",
       "      <td>1117.56</td>\n",
       "      <td>1143.37</td>\n",
       "      <td>64899600</td>\n",
       "    </tr>\n",
       "    <tr>\n",
       "      <th>4</th>\n",
       "      <td>2016-01-08</td>\n",
       "      <td>1145.64</td>\n",
       "      <td>1149.96</td>\n",
       "      <td>1120.93</td>\n",
       "      <td>1122.88</td>\n",
       "      <td>52138900</td>\n",
       "    </tr>\n",
       "  </tbody>\n",
       "</table>\n",
       "</div>"
      ],
      "text/plain": [
       "        Date     Open     High      Low    Close    Volume\n",
       "0 2016-01-04  1099.59  1110.75  1093.85  1109.64  66545000\n",
       "1 2016-01-05  1117.47  1130.57  1112.75  1125.85  41227200\n",
       "2 2016-01-06  1116.63  1138.68  1116.10  1133.04  42316800\n",
       "3 2016-01-07  1122.00  1149.76  1117.56  1143.37  64899600\n",
       "4 2016-01-08  1145.64  1149.96  1120.93  1122.88  52138900"
      ]
     },
     "execution_count": 43,
     "metadata": {},
     "output_type": "execute_result"
    }
   ],
   "source": [
    "df=pd.read_csv('./train.csv')\n",
    "df['Date']=pd.to_datetime(df['Date'])\n",
    "df.sort_values(by=['Date'],inplace=True,ascending=True)\n",
    "df.head()"
   ]
  },
  {
   "cell_type": "markdown",
   "metadata": {},
   "source": [
    "# 3. checking for null values"
   ]
  },
  {
   "cell_type": "code",
   "execution_count": 44,
   "metadata": {},
   "outputs": [
    {
     "data": {
      "text/plain": [
       "Date      0\n",
       "Open      0\n",
       "High      0\n",
       "Low       0\n",
       "Close     0\n",
       "Volume    0\n",
       "dtype: int64"
      ]
     },
     "execution_count": 44,
     "metadata": {},
     "output_type": "execute_result"
    }
   ],
   "source": [
    "df.isnull().sum()\n",
    "#test am i here"
   ]
  },
  {
   "cell_type": "markdown",
   "metadata": {},
   "source": [
    "# 4. outlier analysis"
   ]
  },
  {
   "cell_type": "code",
   "execution_count": 45,
   "metadata": {},
   "outputs": [
    {
     "data": {
      "text/plain": [
       "<AxesSubplot:>"
      ]
     },
     "execution_count": 45,
     "metadata": {},
     "output_type": "execute_result"
    },
    {
     "data": {
      "image/png": "[encoded data removed]",
      "text/plain": [
       "<Figure size 432x288 with 1 Axes>"
      ]
     },
     "metadata": {
      "needs_background": "light"
     },
     "output_type": "display_data"
    }
   ],
   "source": [
    "sns.boxplot(data=df)\n",
    "#sns.boxplot(data=df['Open'])\n",
    "\n",
    "\n",
    "\n",
    "#volume has outliers"
   ]
  },
  {
   "cell_type": "code",
   "execution_count": 46,
   "metadata": {},
   "outputs": [
    {
     "data": {
      "text/plain": [
       "<AxesSubplot:>"
      ]
     },
     "execution_count": 46,
     "metadata": {},
     "output_type": "execute_result"
    },
    {
     "data": {
      "image/png": "[encoded data removed]",
      "text/plain": [
       "<Figure size 432x288 with 2 Axes>"
      ]
     },
     "metadata": {
      "needs_background": "light"
     },
     "output_type": "display_data"
    }
   ],
   "source": [
    "corr=df.corr()\n",
    "sns.heatmap(corr)"
   ]
  },
  {
   "cell_type": "code",
   "execution_count": 47,
   "metadata": {},
   "outputs": [
    {
     "name": "stdout",
     "output_type": "stream",
     "text": [
      "120388600\n"
     ]
    }
   ],
   "source": [
    "print(df['Volume'].max()-df['Volume'].min())"
   ]
  },
  {
   "cell_type": "markdown",
   "metadata": {},
   "source": [
    "the attribute volume has outliers, hence it will be dropped"
   ]
  },
  {
   "cell_type": "code",
   "execution_count": 48,
   "metadata": {},
   "outputs": [
    {
     "data": {
      "text/plain": [
       "<AxesSubplot:>"
      ]
     },
     "execution_count": 48,
     "metadata": {},
     "output_type": "execute_result"
    },
    {
     "data": {
      "image/png": "[encoded data removed]",
      "text/plain": [
       "<Figure size 432x288 with 2 Axes>"
      ]
     },
     "metadata": {
      "needs_background": "light"
     },
     "output_type": "display_data"
    }
   ],
   "source": [
    "check=df.drop(['Volume'],axis=1)\n",
    "corr=check.corr()\n",
    "sns.heatmap(corr)"
   ]
  },
  {
   "cell_type": "code",
   "execution_count": 49,
   "metadata": {},
   "outputs": [
    {
     "data": {
      "image/png": "[encoded data removed]",
      "text/plain": [
       "<Figure size 1800x432 with 4 Axes>"
      ]
     },
     "metadata": {
      "needs_background": "light"
     },
     "output_type": "display_data"
    }
   ],
   "source": [
    "#close is target variable\n",
    "fig,ax =  plt.subplots( 2,2,figsize = ( 25, 6))\n",
    "sns.lineplot(ax=ax[0][0],x = \"Date\", y = \"Open\", data = df)\n",
    "sns.lineplot(ax=ax[0][1],x = \"Date\", y = \"High\", data = df)\n",
    "sns.lineplot(ax=ax[1][0],x = \"Date\", y = \"Low\", data = df)\n",
    "sns.lineplot(ax=ax[1][1],x = \"Date\", y = \"Close\", data = df)\n",
    "#sns.lineplot(x = \"Date\", y = \"Volume\", data = df)\n",
    "plt.ylabel(\"Open and High\")\n",
    "plt.xticks(rotation = 25)\n",
    "plt.show()"
   ]
  },
  {
   "cell_type": "code",
   "execution_count": 50,
   "metadata": {},
   "outputs": [
    {
     "data": {
      "text/plain": [
       "<AxesSubplot:xlabel='Date', ylabel='Volume'>"
      ]
     },
     "execution_count": 50,
     "metadata": {},
     "output_type": "execute_result"
    },
    {
     "data": {
      "image/png": "[encoded data removed]",
      "text/plain": [
       "<Figure size 1800x432 with 1 Axes>"
      ]
     },
     "metadata": {
      "needs_background": "light"
     },
     "output_type": "display_data"
    }
   ],
   "source": [
    "plt.figure(figsize=(25,6))\n",
    "sns.lineplot(x='Date',y='Volume',data=df)\n",
    "\n",
    "#most time series decisions to be taken on volume data\n"
   ]
  },
  {
   "cell_type": "code",
   "execution_count": 51,
   "metadata": {},
   "outputs": [
    {
     "data": {
      "text/plain": [
       "Date      datetime64[ns]\n",
       "Open             float64\n",
       "High             float64\n",
       "Low              float64\n",
       "Close            float64\n",
       "Volume             int64\n",
       "dtype: object"
      ]
     },
     "execution_count": 51,
     "metadata": {},
     "output_type": "execute_result"
    }
   ],
   "source": [
    "df.dtypes"
   ]
  },
  {
   "cell_type": "code",
   "execution_count": 52,
   "metadata": {},
   "outputs": [
    {
     "data": {
      "text/html": [
       "<div>\n",
       "<style scoped>\n",
       "    .dataframe tbody tr th:only-of-type {\n",
       "        vertical-align: middle;\n",
       "    }\n",
       "\n",
       "    .dataframe tbody tr th {\n",
       "        vertical-align: top;\n",
       "    }\n",
       "\n",
       "    .dataframe thead th {\n",
       "        text-align: right;\n",
       "    }\n",
       "</style>\n",
       "<table border=\"1\" class=\"dataframe\">\n",
       "  <thead>\n",
       "    <tr style=\"text-align: right;\">\n",
       "      <th></th>\n",
       "      <th>ds</th>\n",
       "      <th>Open</th>\n",
       "      <th>High</th>\n",
       "      <th>Low</th>\n",
       "      <th>y</th>\n",
       "      <th>Volume</th>\n",
       "    </tr>\n",
       "  </thead>\n",
       "  <tbody>\n",
       "    <tr>\n",
       "      <th>0</th>\n",
       "      <td>2016-01-04</td>\n",
       "      <td>1099.59</td>\n",
       "      <td>1110.75</td>\n",
       "      <td>1093.85</td>\n",
       "      <td>1109.64</td>\n",
       "      <td>66545000</td>\n",
       "    </tr>\n",
       "    <tr>\n",
       "      <th>1</th>\n",
       "      <td>2016-01-05</td>\n",
       "      <td>1117.47</td>\n",
       "      <td>1130.57</td>\n",
       "      <td>1112.75</td>\n",
       "      <td>1125.85</td>\n",
       "      <td>41227200</td>\n",
       "    </tr>\n",
       "    <tr>\n",
       "      <th>2</th>\n",
       "      <td>2016-01-06</td>\n",
       "      <td>1116.63</td>\n",
       "      <td>1138.68</td>\n",
       "      <td>1116.10</td>\n",
       "      <td>1133.04</td>\n",
       "      <td>42316800</td>\n",
       "    </tr>\n",
       "    <tr>\n",
       "      <th>3</th>\n",
       "      <td>2016-01-07</td>\n",
       "      <td>1122.00</td>\n",
       "      <td>1149.76</td>\n",
       "      <td>1117.56</td>\n",
       "      <td>1143.37</td>\n",
       "      <td>64899600</td>\n",
       "    </tr>\n",
       "    <tr>\n",
       "      <th>4</th>\n",
       "      <td>2016-01-08</td>\n",
       "      <td>1145.64</td>\n",
       "      <td>1149.96</td>\n",
       "      <td>1120.93</td>\n",
       "      <td>1122.88</td>\n",
       "      <td>52138900</td>\n",
       "    </tr>\n",
       "  </tbody>\n",
       "</table>\n",
       "</div>"
      ],
      "text/plain": [
       "          ds     Open     High      Low        y    Volume\n",
       "0 2016-01-04  1099.59  1110.75  1093.85  1109.64  66545000\n",
       "1 2016-01-05  1117.47  1130.57  1112.75  1125.85  41227200\n",
       "2 2016-01-06  1116.63  1138.68  1116.10  1133.04  42316800\n",
       "3 2016-01-07  1122.00  1149.76  1117.56  1143.37  64899600\n",
       "4 2016-01-08  1145.64  1149.96  1120.93  1122.88  52138900"
      ]
     },
     "execution_count": 52,
     "metadata": {},
     "output_type": "execute_result"
    }
   ],
   "source": [
    "df.rename(columns={'Close':'y','Date':'ds'},inplace=True)\n",
    "df.head()"
   ]
  },
  {
   "cell_type": "code",
   "execution_count": 53,
   "metadata": {},
   "outputs": [
    {
     "name": "stderr",
     "output_type": "stream",
     "text": [
      "c:\\Users\\Bhavini\\AppData\\Local\\Programs\\Python\\Python310\\lib\\site-packages\\tqdm\\auto.py:22: TqdmWarning: IProgress not found. Please update jupyter and ipywidgets. See https://ipywidgets.readthedocs.io/en/stable/user_install.html\n",
      "  from .autonotebook import tqdm as notebook_tqdm\n",
      "Importing plotly failed. Interactive plots will not work.\n",
      "18:07:05 - cmdstanpy - INFO - Chain [1] start processing\n",
      "18:07:05 - cmdstanpy - INFO - Chain [1] done processing\n",
      "18:07:05 - cmdstanpy - ERROR - Chain [1] error: error during processing Unknown error\n",
      "Optimization terminated abnormally. Falling back to Newton.\n",
      "18:07:05 - cmdstanpy - INFO - Chain [1] start processing\n",
      "18:07:11 - cmdstanpy - INFO - Chain [1] done processing\n"
     ]
    },
    {
     "data": {
      "text/plain": [
       "<prophet.forecaster.Prophet at 0x205a9b93340>"
      ]
     },
     "execution_count": 53,
     "metadata": {},
     "output_type": "execute_result"
    }
   ],
   "source": [
    "\n",
    "import prophet as pr\n",
    "model= pr.Prophet()\n",
    "model.add_regressor('Open',standardize=False)\n",
    "\n",
    "model.add_regressor('High',standardize=False)\n",
    "model.add_regressor('Low',standardize=False)\n",
    "\n",
    "model.add_regressor('Volume',standardize=False)\n",
    "model.make_all_seasonality_features(df)\n",
    "model.fit(df)"
   ]
  },
  {
   "cell_type": "code",
   "execution_count": 54,
   "metadata": {},
   "outputs": [
    {
     "data": {
      "text/html": [
       "<div>\n",
       "<style scoped>\n",
       "    .dataframe tbody tr th:only-of-type {\n",
       "        vertical-align: middle;\n",
       "    }\n",
       "\n",
       "    .dataframe tbody tr th {\n",
       "        vertical-align: top;\n",
       "    }\n",
       "\n",
       "    .dataframe thead th {\n",
       "        text-align: right;\n",
       "    }\n",
       "</style>\n",
       "<table border=\"1\" class=\"dataframe\">\n",
       "  <thead>\n",
       "    <tr style=\"text-align: right;\">\n",
       "      <th></th>\n",
       "      <th>ds</th>\n",
       "      <th>Open</th>\n",
       "      <th>High</th>\n",
       "      <th>Low</th>\n",
       "      <th>y</th>\n",
       "      <th>Volume</th>\n",
       "    </tr>\n",
       "  </thead>\n",
       "  <tbody>\n",
       "    <tr>\n",
       "      <th>0</th>\n",
       "      <td>2016-01-04</td>\n",
       "      <td>1099.59</td>\n",
       "      <td>1110.75</td>\n",
       "      <td>1093.85</td>\n",
       "      <td>1109.64</td>\n",
       "      <td>66545000</td>\n",
       "    </tr>\n",
       "    <tr>\n",
       "      <th>1</th>\n",
       "      <td>2016-01-05</td>\n",
       "      <td>1117.47</td>\n",
       "      <td>1130.57</td>\n",
       "      <td>1112.75</td>\n",
       "      <td>1125.85</td>\n",
       "      <td>41227200</td>\n",
       "    </tr>\n",
       "    <tr>\n",
       "      <th>2</th>\n",
       "      <td>2016-01-06</td>\n",
       "      <td>1116.63</td>\n",
       "      <td>1138.68</td>\n",
       "      <td>1116.10</td>\n",
       "      <td>1133.04</td>\n",
       "      <td>42316800</td>\n",
       "    </tr>\n",
       "    <tr>\n",
       "      <th>3</th>\n",
       "      <td>2016-01-07</td>\n",
       "      <td>1122.00</td>\n",
       "      <td>1149.76</td>\n",
       "      <td>1117.56</td>\n",
       "      <td>1143.37</td>\n",
       "      <td>64899600</td>\n",
       "    </tr>\n",
       "    <tr>\n",
       "      <th>4</th>\n",
       "      <td>2016-01-08</td>\n",
       "      <td>1145.64</td>\n",
       "      <td>1149.96</td>\n",
       "      <td>1120.93</td>\n",
       "      <td>1122.88</td>\n",
       "      <td>52138900</td>\n",
       "    </tr>\n",
       "  </tbody>\n",
       "</table>\n",
       "</div>"
      ],
      "text/plain": [
       "          ds     Open     High      Low        y    Volume\n",
       "0 2016-01-04  1099.59  1110.75  1093.85  1109.64  66545000\n",
       "1 2016-01-05  1117.47  1130.57  1112.75  1125.85  41227200\n",
       "2 2016-01-06  1116.63  1138.68  1116.10  1133.04  42316800\n",
       "3 2016-01-07  1122.00  1149.76  1117.56  1143.37  64899600\n",
       "4 2016-01-08  1145.64  1149.96  1120.93  1122.88  52138900"
      ]
     },
     "execution_count": 54,
     "metadata": {},
     "output_type": "execute_result"
    }
   ],
   "source": [
    "df_test=df\n",
    "df_test.head()"
   ]
  },
  {
   "cell_type": "code",
   "execution_count": 55,
   "metadata": {},
   "outputs": [],
   "source": [
    "forecast=model.predict(df_test)"
   ]
  },
  {
   "cell_type": "code",
   "execution_count": 56,
   "metadata": {},
   "outputs": [
    {
     "data": {
      "text/html": [
       "<div>\n",
       "<style scoped>\n",
       "    .dataframe tbody tr th:only-of-type {\n",
       "        vertical-align: middle;\n",
       "    }\n",
       "\n",
       "    .dataframe tbody tr th {\n",
       "        vertical-align: top;\n",
       "    }\n",
       "\n",
       "    .dataframe thead th {\n",
       "        text-align: right;\n",
       "    }\n",
       "</style>\n",
       "<table border=\"1\" class=\"dataframe\">\n",
       "  <thead>\n",
       "    <tr style=\"text-align: right;\">\n",
       "      <th></th>\n",
       "      <th>ds</th>\n",
       "      <th>trend</th>\n",
       "      <th>yhat_lower</th>\n",
       "      <th>yhat_upper</th>\n",
       "      <th>trend_lower</th>\n",
       "      <th>trend_upper</th>\n",
       "      <th>High</th>\n",
       "      <th>High_lower</th>\n",
       "      <th>High_upper</th>\n",
       "      <th>Low</th>\n",
       "      <th>...</th>\n",
       "      <th>weekly</th>\n",
       "      <th>weekly_lower</th>\n",
       "      <th>weekly_upper</th>\n",
       "      <th>yearly</th>\n",
       "      <th>yearly_lower</th>\n",
       "      <th>yearly_upper</th>\n",
       "      <th>multiplicative_terms</th>\n",
       "      <th>multiplicative_terms_lower</th>\n",
       "      <th>multiplicative_terms_upper</th>\n",
       "      <th>yhat</th>\n",
       "    </tr>\n",
       "  </thead>\n",
       "  <tbody>\n",
       "    <tr>\n",
       "      <th>0</th>\n",
       "      <td>2016-01-04</td>\n",
       "      <td>1250.030961</td>\n",
       "      <td>1094.467009</td>\n",
       "      <td>1114.973874</td>\n",
       "      <td>1250.030961</td>\n",
       "      <td>1250.030961</td>\n",
       "      <td>904.134378</td>\n",
       "      <td>904.134378</td>\n",
       "      <td>904.134378</td>\n",
       "      <td>938.680163</td>\n",
       "      <td>...</td>\n",
       "      <td>-1248.181163</td>\n",
       "      <td>-1248.181163</td>\n",
       "      <td>-1248.181163</td>\n",
       "      <td>0.041775</td>\n",
       "      <td>0.041775</td>\n",
       "      <td>0.041775</td>\n",
       "      <td>0.0</td>\n",
       "      <td>0.0</td>\n",
       "      <td>0.0</td>\n",
       "      <td>1104.606046</td>\n",
       "    </tr>\n",
       "    <tr>\n",
       "      <th>1</th>\n",
       "      <td>2016-01-05</td>\n",
       "      <td>1250.027559</td>\n",
       "      <td>1114.871023</td>\n",
       "      <td>1135.094540</td>\n",
       "      <td>1250.027559</td>\n",
       "      <td>1250.027559</td>\n",
       "      <td>920.267570</td>\n",
       "      <td>920.267570</td>\n",
       "      <td>920.267570</td>\n",
       "      <td>954.899073</td>\n",
       "      <td>...</td>\n",
       "      <td>-1248.650893</td>\n",
       "      <td>-1248.650893</td>\n",
       "      <td>-1248.650893</td>\n",
       "      <td>0.022816</td>\n",
       "      <td>0.022816</td>\n",
       "      <td>0.022816</td>\n",
       "      <td>0.0</td>\n",
       "      <td>0.0</td>\n",
       "      <td>0.0</td>\n",
       "      <td>1124.795048</td>\n",
       "    </tr>\n",
       "    <tr>\n",
       "      <th>2</th>\n",
       "      <td>2016-01-06</td>\n",
       "      <td>1250.024157</td>\n",
       "      <td>1123.417756</td>\n",
       "      <td>1144.434391</td>\n",
       "      <td>1250.024157</td>\n",
       "      <td>1250.024157</td>\n",
       "      <td>926.868992</td>\n",
       "      <td>926.868992</td>\n",
       "      <td>926.868992</td>\n",
       "      <td>957.773854</td>\n",
       "      <td>...</td>\n",
       "      <td>-1249.291024</td>\n",
       "      <td>-1249.291024</td>\n",
       "      <td>-1249.291024</td>\n",
       "      <td>0.005708</td>\n",
       "      <td>0.005708</td>\n",
       "      <td>0.005708</td>\n",
       "      <td>0.0</td>\n",
       "      <td>0.0</td>\n",
       "      <td>0.0</td>\n",
       "      <td>1134.160286</td>\n",
       "    </tr>\n",
       "    <tr>\n",
       "      <th>3</th>\n",
       "      <td>2016-01-07</td>\n",
       "      <td>1250.020754</td>\n",
       "      <td>1130.400903</td>\n",
       "      <td>1151.452438</td>\n",
       "      <td>1250.020754</td>\n",
       "      <td>1250.020754</td>\n",
       "      <td>935.887952</td>\n",
       "      <td>935.887952</td>\n",
       "      <td>935.887952</td>\n",
       "      <td>959.026743</td>\n",
       "      <td>...</td>\n",
       "      <td>-1248.336427</td>\n",
       "      <td>-1248.336427</td>\n",
       "      <td>-1248.336427</td>\n",
       "      <td>-0.009104</td>\n",
       "      <td>-0.009104</td>\n",
       "      <td>-0.009104</td>\n",
       "      <td>0.0</td>\n",
       "      <td>0.0</td>\n",
       "      <td>0.0</td>\n",
       "      <td>1141.447696</td>\n",
       "    </tr>\n",
       "    <tr>\n",
       "      <th>4</th>\n",
       "      <td>2016-01-08</td>\n",
       "      <td>1250.017352</td>\n",
       "      <td>1119.377448</td>\n",
       "      <td>1139.873534</td>\n",
       "      <td>1250.017352</td>\n",
       "      <td>1250.017352</td>\n",
       "      <td>936.050749</td>\n",
       "      <td>936.050749</td>\n",
       "      <td>936.050749</td>\n",
       "      <td>961.918686</td>\n",
       "      <td>...</td>\n",
       "      <td>-1247.355127</td>\n",
       "      <td>-1247.355127</td>\n",
       "      <td>-1247.355127</td>\n",
       "      <td>-0.021118</td>\n",
       "      <td>-0.021118</td>\n",
       "      <td>-0.021118</td>\n",
       "      <td>0.0</td>\n",
       "      <td>0.0</td>\n",
       "      <td>0.0</td>\n",
       "      <td>1129.752349</td>\n",
       "    </tr>\n",
       "  </tbody>\n",
       "</table>\n",
       "<p>5 rows × 34 columns</p>\n",
       "</div>"
      ],
      "text/plain": [
       "          ds        trend   yhat_lower   yhat_upper  trend_lower  trend_upper  \\\n",
       "0 2016-01-04  1250.030961  1094.467009  1114.973874  1250.030961  1250.030961   \n",
       "1 2016-01-05  1250.027559  1114.871023  1135.094540  1250.027559  1250.027559   \n",
       "2 2016-01-06  1250.024157  1123.417756  1144.434391  1250.024157  1250.024157   \n",
       "3 2016-01-07  1250.020754  1130.400903  1151.452438  1250.020754  1250.020754   \n",
       "4 2016-01-08  1250.017352  1119.377448  1139.873534  1250.017352  1250.017352   \n",
       "\n",
       "         High  High_lower  High_upper         Low  ...       weekly  \\\n",
       "0  904.134378  904.134378  904.134378  938.680163  ... -1248.181163   \n",
       "1  920.267570  920.267570  920.267570  954.899073  ... -1248.650893   \n",
       "2  926.868992  926.868992  926.868992  957.773854  ... -1249.291024   \n",
       "3  935.887952  935.887952  935.887952  959.026743  ... -1248.336427   \n",
       "4  936.050749  936.050749  936.050749  961.918686  ... -1247.355127   \n",
       "\n",
       "   weekly_lower  weekly_upper    yearly  yearly_lower  yearly_upper  \\\n",
       "0  -1248.181163  -1248.181163  0.041775      0.041775      0.041775   \n",
       "1  -1248.650893  -1248.650893  0.022816      0.022816      0.022816   \n",
       "2  -1249.291024  -1249.291024  0.005708      0.005708      0.005708   \n",
       "3  -1248.336427  -1248.336427 -0.009104     -0.009104     -0.009104   \n",
       "4  -1247.355127  -1247.355127 -0.021118     -0.021118     -0.021118   \n",
       "\n",
       "   multiplicative_terms  multiplicative_terms_lower  \\\n",
       "0                   0.0                         0.0   \n",
       "1                   0.0                         0.0   \n",
       "2                   0.0                         0.0   \n",
       "3                   0.0                         0.0   \n",
       "4                   0.0                         0.0   \n",
       "\n",
       "   multiplicative_terms_upper         yhat  \n",
       "0                         0.0  1104.606046  \n",
       "1                         0.0  1124.795048  \n",
       "2                         0.0  1134.160286  \n",
       "3                         0.0  1141.447696  \n",
       "4                         0.0  1129.752349  \n",
       "\n",
       "[5 rows x 34 columns]"
      ]
     },
     "execution_count": 56,
     "metadata": {},
     "output_type": "execute_result"
    }
   ],
   "source": [
    "forecast.head()"
   ]
  },
  {
   "cell_type": "code",
   "execution_count": 57,
   "metadata": {},
   "outputs": [],
   "source": [
    "forecast=forecast[['ds','yhat']]"
   ]
  },
  {
   "cell_type": "code",
   "execution_count": 58,
   "metadata": {},
   "outputs": [
    {
     "data": {
      "text/html": [
       "<div>\n",
       "<style scoped>\n",
       "    .dataframe tbody tr th:only-of-type {\n",
       "        vertical-align: middle;\n",
       "    }\n",
       "\n",
       "    .dataframe tbody tr th {\n",
       "        vertical-align: top;\n",
       "    }\n",
       "\n",
       "    .dataframe thead th {\n",
       "        text-align: right;\n",
       "    }\n",
       "</style>\n",
       "<table border=\"1\" class=\"dataframe\">\n",
       "  <thead>\n",
       "    <tr style=\"text-align: right;\">\n",
       "      <th></th>\n",
       "      <th>ds</th>\n",
       "      <th>yhat</th>\n",
       "    </tr>\n",
       "  </thead>\n",
       "  <tbody>\n",
       "    <tr>\n",
       "      <th>0</th>\n",
       "      <td>2016-01-04</td>\n",
       "      <td>1104.606046</td>\n",
       "    </tr>\n",
       "    <tr>\n",
       "      <th>1</th>\n",
       "      <td>2016-01-05</td>\n",
       "      <td>1124.795048</td>\n",
       "    </tr>\n",
       "    <tr>\n",
       "      <th>2</th>\n",
       "      <td>2016-01-06</td>\n",
       "      <td>1134.160286</td>\n",
       "    </tr>\n",
       "    <tr>\n",
       "      <th>3</th>\n",
       "      <td>2016-01-07</td>\n",
       "      <td>1141.447696</td>\n",
       "    </tr>\n",
       "    <tr>\n",
       "      <th>4</th>\n",
       "      <td>2016-01-08</td>\n",
       "      <td>1129.752349</td>\n",
       "    </tr>\n",
       "  </tbody>\n",
       "</table>\n",
       "</div>"
      ],
      "text/plain": [
       "          ds         yhat\n",
       "0 2016-01-04  1104.606046\n",
       "1 2016-01-05  1124.795048\n",
       "2 2016-01-06  1134.160286\n",
       "3 2016-01-07  1141.447696\n",
       "4 2016-01-08  1129.752349"
      ]
     },
     "execution_count": 58,
     "metadata": {},
     "output_type": "execute_result"
    }
   ],
   "source": [
    "forecast.head()"
   ]
  },
  {
   "cell_type": "code",
   "execution_count": 59,
   "metadata": {},
   "outputs": [],
   "source": [
    "final_df=pd.concat((forecast['yhat'],df),axis=1)"
   ]
  },
  {
   "cell_type": "code",
   "execution_count": 60,
   "metadata": {},
   "outputs": [
    {
     "data": {
      "text/html": [
       "<div>\n",
       "<style scoped>\n",
       "    .dataframe tbody tr th:only-of-type {\n",
       "        vertical-align: middle;\n",
       "    }\n",
       "\n",
       "    .dataframe tbody tr th {\n",
       "        vertical-align: top;\n",
       "    }\n",
       "\n",
       "    .dataframe thead th {\n",
       "        text-align: right;\n",
       "    }\n",
       "</style>\n",
       "<table border=\"1\" class=\"dataframe\">\n",
       "  <thead>\n",
       "    <tr style=\"text-align: right;\">\n",
       "      <th></th>\n",
       "      <th>yhat</th>\n",
       "      <th>ds</th>\n",
       "      <th>Open</th>\n",
       "      <th>High</th>\n",
       "      <th>Low</th>\n",
       "      <th>y</th>\n",
       "      <th>Volume</th>\n",
       "    </tr>\n",
       "  </thead>\n",
       "  <tbody>\n",
       "    <tr>\n",
       "      <th>0</th>\n",
       "      <td>1104.606046</td>\n",
       "      <td>2016-01-04</td>\n",
       "      <td>1099.59</td>\n",
       "      <td>1110.75</td>\n",
       "      <td>1093.85</td>\n",
       "      <td>1109.64</td>\n",
       "      <td>66545000</td>\n",
       "    </tr>\n",
       "    <tr>\n",
       "      <th>1</th>\n",
       "      <td>1124.795048</td>\n",
       "      <td>2016-01-05</td>\n",
       "      <td>1117.47</td>\n",
       "      <td>1130.57</td>\n",
       "      <td>1112.75</td>\n",
       "      <td>1125.85</td>\n",
       "      <td>41227200</td>\n",
       "    </tr>\n",
       "    <tr>\n",
       "      <th>2</th>\n",
       "      <td>1134.160286</td>\n",
       "      <td>2016-01-06</td>\n",
       "      <td>1116.63</td>\n",
       "      <td>1138.68</td>\n",
       "      <td>1116.10</td>\n",
       "      <td>1133.04</td>\n",
       "      <td>42316800</td>\n",
       "    </tr>\n",
       "    <tr>\n",
       "      <th>3</th>\n",
       "      <td>1141.447696</td>\n",
       "      <td>2016-01-07</td>\n",
       "      <td>1122.00</td>\n",
       "      <td>1149.76</td>\n",
       "      <td>1117.56</td>\n",
       "      <td>1143.37</td>\n",
       "      <td>64899600</td>\n",
       "    </tr>\n",
       "    <tr>\n",
       "      <th>4</th>\n",
       "      <td>1129.752349</td>\n",
       "      <td>2016-01-08</td>\n",
       "      <td>1145.64</td>\n",
       "      <td>1149.96</td>\n",
       "      <td>1120.93</td>\n",
       "      <td>1122.88</td>\n",
       "      <td>52138900</td>\n",
       "    </tr>\n",
       "  </tbody>\n",
       "</table>\n",
       "</div>"
      ],
      "text/plain": [
       "          yhat         ds     Open     High      Low        y    Volume\n",
       "0  1104.606046 2016-01-04  1099.59  1110.75  1093.85  1109.64  66545000\n",
       "1  1124.795048 2016-01-05  1117.47  1130.57  1112.75  1125.85  41227200\n",
       "2  1134.160286 2016-01-06  1116.63  1138.68  1116.10  1133.04  42316800\n",
       "3  1141.447696 2016-01-07  1122.00  1149.76  1117.56  1143.37  64899600\n",
       "4  1129.752349 2016-01-08  1145.64  1149.96  1120.93  1122.88  52138900"
      ]
     },
     "execution_count": 60,
     "metadata": {},
     "output_type": "execute_result"
    }
   ],
   "source": [
    "final_df.head()"
   ]
  },
  {
   "cell_type": "code",
   "execution_count": 61,
   "metadata": {},
   "outputs": [
    {
     "data": {
      "text/plain": [
       "<AxesSubplot:xlabel='ds', ylabel='y'>"
      ]
     },
     "execution_count": 61,
     "metadata": {},
     "output_type": "execute_result"
    },
    {
     "data": {
      "image/png": "[encoded data removed]",
      "text/plain": [
       "<Figure size 1800x432 with 1 Axes>"
      ]
     },
     "metadata": {
      "needs_background": "light"
     },
     "output_type": "display_data"
    }
   ],
   "source": [
    "from cProfile import label\n",
    "\n",
    "\n",
    "plt.figure(figsize=(25,6))\n",
    "sns.lineplot(x = \"ds\", y = \"y\", data = final_df,label='y')\n",
    "sns.lineplot(x = \"ds\", y = \"yhat\", data = final_df,label='yhat')"
   ]
  },
  {
   "cell_type": "code",
   "execution_count": 62,
   "metadata": {},
   "outputs": [
    {
     "data": {
      "text/html": [
       "<div>\n",
       "<style scoped>\n",
       "    .dataframe tbody tr th:only-of-type {\n",
       "        vertical-align: middle;\n",
       "    }\n",
       "\n",
       "    .dataframe tbody tr th {\n",
       "        vertical-align: top;\n",
       "    }\n",
       "\n",
       "    .dataframe thead th {\n",
       "        text-align: right;\n",
       "    }\n",
       "</style>\n",
       "<table border=\"1\" class=\"dataframe\">\n",
       "  <thead>\n",
       "    <tr style=\"text-align: right;\">\n",
       "      <th></th>\n",
       "      <th>Date</th>\n",
       "      <th>Open</th>\n",
       "      <th>High</th>\n",
       "      <th>Low</th>\n",
       "      <th>Volume</th>\n",
       "    </tr>\n",
       "  </thead>\n",
       "  <tbody>\n",
       "    <tr>\n",
       "      <th>0</th>\n",
       "      <td>2022-08-01</td>\n",
       "      <td>2455.71</td>\n",
       "      <td>2500.26</td>\n",
       "      <td>2447.87</td>\n",
       "      <td>24327600</td>\n",
       "    </tr>\n",
       "    <tr>\n",
       "      <th>1</th>\n",
       "      <td>2022-08-02</td>\n",
       "      <td>2466.68</td>\n",
       "      <td>2494.73</td>\n",
       "      <td>2447.99</td>\n",
       "      <td>19076300</td>\n",
       "    </tr>\n",
       "    <tr>\n",
       "      <th>2</th>\n",
       "      <td>2022-08-03</td>\n",
       "      <td>2473.29</td>\n",
       "      <td>2507.59</td>\n",
       "      <td>2449.39</td>\n",
       "      <td>27459700</td>\n",
       "    </tr>\n",
       "    <tr>\n",
       "      <th>3</th>\n",
       "      <td>2022-08-04</td>\n",
       "      <td>2475.98</td>\n",
       "      <td>2487.75</td>\n",
       "      <td>2419.88</td>\n",
       "      <td>23699600</td>\n",
       "    </tr>\n",
       "    <tr>\n",
       "      <th>4</th>\n",
       "      <td>2022-08-05</td>\n",
       "      <td>2414.66</td>\n",
       "      <td>2444.17</td>\n",
       "      <td>2409.01</td>\n",
       "      <td>18912400</td>\n",
       "    </tr>\n",
       "  </tbody>\n",
       "</table>\n",
       "</div>"
      ],
      "text/plain": [
       "        Date     Open     High      Low    Volume\n",
       "0 2022-08-01  2455.71  2500.26  2447.87  24327600\n",
       "1 2022-08-02  2466.68  2494.73  2447.99  19076300\n",
       "2 2022-08-03  2473.29  2507.59  2449.39  27459700\n",
       "3 2022-08-04  2475.98  2487.75  2419.88  23699600\n",
       "4 2022-08-05  2414.66  2444.17  2409.01  18912400"
      ]
     },
     "execution_count": 62,
     "metadata": {},
     "output_type": "execute_result"
    }
   ],
   "source": [
    "df_final=pd.read_csv('./test.csv')\n",
    "df_final['Date']=pd.to_datetime(df_final['Date'])\n",
    "df_final.sort_values(by=['Date'],inplace=True,ascending=True)\n",
    "df_final.head()"
   ]
  },
  {
   "cell_type": "code",
   "execution_count": 63,
   "metadata": {},
   "outputs": [],
   "source": [
    "df_final.rename(columns={'Close':'y','Date':'ds'},inplace=True)\n",
    "forcast=model.predict(df_final)"
   ]
  },
  {
   "cell_type": "code",
   "execution_count": 64,
   "metadata": {},
   "outputs": [],
   "source": [
    "forcast=forcast[['ds','yhat']]"
   ]
  },
  {
   "cell_type": "code",
   "execution_count": 65,
   "metadata": {},
   "outputs": [],
   "source": [
    "final=pd.concat((forcast['yhat'],df_final),axis=1)"
   ]
  },
  {
   "cell_type": "code",
   "execution_count": 66,
   "metadata": {},
   "outputs": [
    {
     "data": {
      "text/html": [
       "<div>\n",
       "<style scoped>\n",
       "    .dataframe tbody tr th:only-of-type {\n",
       "        vertical-align: middle;\n",
       "    }\n",
       "\n",
       "    .dataframe tbody tr th {\n",
       "        vertical-align: top;\n",
       "    }\n",
       "\n",
       "    .dataframe thead th {\n",
       "        text-align: right;\n",
       "    }\n",
       "</style>\n",
       "<table border=\"1\" class=\"dataframe\">\n",
       "  <thead>\n",
       "    <tr style=\"text-align: right;\">\n",
       "      <th></th>\n",
       "      <th>yhat</th>\n",
       "      <th>ds</th>\n",
       "      <th>Open</th>\n",
       "      <th>High</th>\n",
       "      <th>Low</th>\n",
       "      <th>Volume</th>\n",
       "    </tr>\n",
       "  </thead>\n",
       "  <tbody>\n",
       "    <tr>\n",
       "      <th>0</th>\n",
       "      <td>2487.362953</td>\n",
       "      <td>2022-08-01</td>\n",
       "      <td>2455.71</td>\n",
       "      <td>2500.26</td>\n",
       "      <td>2447.87</td>\n",
       "      <td>24327600</td>\n",
       "    </tr>\n",
       "    <tr>\n",
       "      <th>1</th>\n",
       "      <td>2475.149131</td>\n",
       "      <td>2022-08-02</td>\n",
       "      <td>2466.68</td>\n",
       "      <td>2494.73</td>\n",
       "      <td>2447.99</td>\n",
       "      <td>19076300</td>\n",
       "    </tr>\n",
       "    <tr>\n",
       "      <th>2</th>\n",
       "      <td>2481.561802</td>\n",
       "      <td>2022-08-03</td>\n",
       "      <td>2473.29</td>\n",
       "      <td>2507.59</td>\n",
       "      <td>2449.39</td>\n",
       "      <td>27459700</td>\n",
       "    </tr>\n",
       "    <tr>\n",
       "      <th>3</th>\n",
       "      <td>2439.215735</td>\n",
       "      <td>2022-08-04</td>\n",
       "      <td>2475.98</td>\n",
       "      <td>2487.75</td>\n",
       "      <td>2419.88</td>\n",
       "      <td>23699600</td>\n",
       "    </tr>\n",
       "    <tr>\n",
       "      <th>4</th>\n",
       "      <td>2436.599786</td>\n",
       "      <td>2022-08-05</td>\n",
       "      <td>2414.66</td>\n",
       "      <td>2444.17</td>\n",
       "      <td>2409.01</td>\n",
       "      <td>18912400</td>\n",
       "    </tr>\n",
       "  </tbody>\n",
       "</table>\n",
       "</div>"
      ],
      "text/plain": [
       "          yhat         ds     Open     High      Low    Volume\n",
       "0  2487.362953 2022-08-01  2455.71  2500.26  2447.87  24327600\n",
       "1  2475.149131 2022-08-02  2466.68  2494.73  2447.99  19076300\n",
       "2  2481.561802 2022-08-03  2473.29  2507.59  2449.39  27459700\n",
       "3  2439.215735 2022-08-04  2475.98  2487.75  2419.88  23699600\n",
       "4  2436.599786 2022-08-05  2414.66  2444.17  2409.01  18912400"
      ]
     },
     "execution_count": 66,
     "metadata": {},
     "output_type": "execute_result"
    }
   ],
   "source": [
    "final.head()"
   ]
  },
  {
   "cell_type": "code",
   "execution_count": 67,
   "metadata": {},
   "outputs": [],
   "source": [
    "ans=final[['ds','yhat']]"
   ]
  },
  {
   "cell_type": "code",
   "execution_count": 68,
   "metadata": {},
   "outputs": [
    {
     "data": {
      "text/html": [
       "<div>\n",
       "<style scoped>\n",
       "    .dataframe tbody tr th:only-of-type {\n",
       "        vertical-align: middle;\n",
       "    }\n",
       "\n",
       "    .dataframe tbody tr th {\n",
       "        vertical-align: top;\n",
       "    }\n",
       "\n",
       "    .dataframe thead th {\n",
       "        text-align: right;\n",
       "    }\n",
       "</style>\n",
       "<table border=\"1\" class=\"dataframe\">\n",
       "  <thead>\n",
       "    <tr style=\"text-align: right;\">\n",
       "      <th></th>\n",
       "      <th>ds</th>\n",
       "      <th>yhat</th>\n",
       "    </tr>\n",
       "  </thead>\n",
       "  <tbody>\n",
       "    <tr>\n",
       "      <th>0</th>\n",
       "      <td>2022-08-01</td>\n",
       "      <td>2487.362953</td>\n",
       "    </tr>\n",
       "    <tr>\n",
       "      <th>1</th>\n",
       "      <td>2022-08-02</td>\n",
       "      <td>2475.149131</td>\n",
       "    </tr>\n",
       "    <tr>\n",
       "      <th>2</th>\n",
       "      <td>2022-08-03</td>\n",
       "      <td>2481.561802</td>\n",
       "    </tr>\n",
       "    <tr>\n",
       "      <th>3</th>\n",
       "      <td>2022-08-04</td>\n",
       "      <td>2439.215735</td>\n",
       "    </tr>\n",
       "    <tr>\n",
       "      <th>4</th>\n",
       "      <td>2022-08-05</td>\n",
       "      <td>2436.599786</td>\n",
       "    </tr>\n",
       "  </tbody>\n",
       "</table>\n",
       "</div>"
      ],
      "text/plain": [
       "          ds         yhat\n",
       "0 2022-08-01  2487.362953\n",
       "1 2022-08-02  2475.149131\n",
       "2 2022-08-03  2481.561802\n",
       "3 2022-08-04  2439.215735\n",
       "4 2022-08-05  2436.599786"
      ]
     },
     "execution_count": 68,
     "metadata": {},
     "output_type": "execute_result"
    }
   ],
   "source": [
    "ans.head()"
   ]
  },
  {
   "cell_type": "code",
   "execution_count": 69,
   "metadata": {},
   "outputs": [
    {
     "name": "stderr",
     "output_type": "stream",
     "text": [
      "C:\\Users\\Bhavini\\AppData\\Local\\Temp\\ipykernel_16920\\54970886.py:1: SettingWithCopyWarning: \n",
      "A value is trying to be set on a copy of a slice from a DataFrame\n",
      "\n",
      "See the caveats in the documentation: https://pandas.pydata.org/pandas-docs/stable/user_guide/indexing.html#returning-a-view-versus-a-copy\n",
      "  ans.rename(columns={'yhat':'Close','ds':'Date'},inplace=True)\n"
     ]
    }
   ],
   "source": [
    "ans.rename(columns={'yhat':'Close','ds':'Date'},inplace=True)"
   ]
  },
  {
   "cell_type": "code",
   "execution_count": 70,
   "metadata": {},
   "outputs": [
    {
     "data": {
      "text/html": [
       "<div>\n",
       "<style scoped>\n",
       "    .dataframe tbody tr th:only-of-type {\n",
       "        vertical-align: middle;\n",
       "    }\n",
       "\n",
       "    .dataframe tbody tr th {\n",
       "        vertical-align: top;\n",
       "    }\n",
       "\n",
       "    .dataframe thead th {\n",
       "        text-align: right;\n",
       "    }\n",
       "</style>\n",
       "<table border=\"1\" class=\"dataframe\">\n",
       "  <thead>\n",
       "    <tr style=\"text-align: right;\">\n",
       "      <th></th>\n",
       "      <th>Date</th>\n",
       "      <th>Close</th>\n",
       "    </tr>\n",
       "  </thead>\n",
       "  <tbody>\n",
       "    <tr>\n",
       "      <th>0</th>\n",
       "      <td>2022-08-01</td>\n",
       "      <td>2487.362953</td>\n",
       "    </tr>\n",
       "    <tr>\n",
       "      <th>1</th>\n",
       "      <td>2022-08-02</td>\n",
       "      <td>2475.149131</td>\n",
       "    </tr>\n",
       "    <tr>\n",
       "      <th>2</th>\n",
       "      <td>2022-08-03</td>\n",
       "      <td>2481.561802</td>\n",
       "    </tr>\n",
       "    <tr>\n",
       "      <th>3</th>\n",
       "      <td>2022-08-04</td>\n",
       "      <td>2439.215735</td>\n",
       "    </tr>\n",
       "    <tr>\n",
       "      <th>4</th>\n",
       "      <td>2022-08-05</td>\n",
       "      <td>2436.599786</td>\n",
       "    </tr>\n",
       "  </tbody>\n",
       "</table>\n",
       "</div>"
      ],
      "text/plain": [
       "        Date        Close\n",
       "0 2022-08-01  2487.362953\n",
       "1 2022-08-02  2475.149131\n",
       "2 2022-08-03  2481.561802\n",
       "3 2022-08-04  2439.215735\n",
       "4 2022-08-05  2436.599786"
      ]
     },
     "execution_count": 70,
     "metadata": {},
     "output_type": "execute_result"
    }
   ],
   "source": [
    "ans.head()"
   ]
  },
  {
   "cell_type": "code",
   "execution_count": 71,
   "metadata": {},
   "outputs": [],
   "source": [
    "ans.to_csv('./ans.csv',index=False)"
   ]
  },
  {
   "cell_type": "markdown",
   "metadata": {},
   "source": [
    "using sktime\n"
   ]
  },
  {
   "cell_type": "code",
   "execution_count": 72,
   "metadata": {},
   "outputs": [
    {
     "name": "stdout",
     "output_type": "stream",
     "text": [
      "Index(['ds', 'Open', 'High', 'Low', 'y', 'Volume'], dtype='object')\n"
     ]
    },
    {
     "data": {
      "text/plain": [
       "ds        datetime64[ns]\n",
       "Open             float64\n",
       "High             float64\n",
       "Low              float64\n",
       "y                float64\n",
       "Volume             int64\n",
       "dtype: object"
      ]
     },
     "execution_count": 72,
     "metadata": {},
     "output_type": "execute_result"
    }
   ],
   "source": [
    "print(df.columns)\n",
    "df.dtypes"
   ]
  },
  {
   "cell_type": "code",
   "execution_count": 73,
   "metadata": {},
   "outputs": [
    {
     "name": "stdout",
     "output_type": "stream",
     "text": [
      "ADF Statistic: -1.111620\n",
      "p-value: 0.710416\n",
      "Critical Values:\n",
      "\t1%: -3.434\n",
      "\t5%: -2.863\n",
      "\t10%: -2.568\n"
     ]
    }
   ],
   "source": [
    "import sktime as skt\n",
    "# dickey fuller test for determining if data is stationary\n",
    "from statsmodels.tsa.stattools import adfuller\n",
    "df_test=df['Open']\n",
    "# df_test.dtypes\n",
    "result = adfuller(df_test)\n",
    "print('ADF Statistic: %f' % result[0])\n",
    "print('p-value: %f' % result[1])\n",
    "print('Critical Values:')\n",
    "for key, value in result[4].items():\n",
    "  print('\\t%s: %.3f' % (key, value))"
   ]
  },
  {
   "cell_type": "code",
   "execution_count": 74,
   "metadata": {},
   "outputs": [],
   "source": [
    "from sktime.forecasting.sarimax import SARIMAX\n",
    "forecast=SARIMAX(order=(1,0,0),seasonal_order=())"
   ]
  },
  {
   "cell_type": "code",
   "execution_count": 87,
   "metadata": {},
   "outputs": [
    {
     "ename": "KeyError",
     "evalue": "\"None of [Index(['Close'], dtype='object')] are in the [columns]\"",
     "output_type": "error",
     "traceback": [
      "\u001b[1;31m---------------------------------------------------------------------------\u001b[0m",
      "\u001b[1;31mKeyError\u001b[0m                                  Traceback (most recent call last)",
      "\u001b[1;32mc:\\Users\\Bhavini\\Git Repos\\kaggle-DA-MI\\data-analytics-ue20cs312\\test.ipynb Cell 40\u001b[0m in \u001b[0;36m<cell line: 2>\u001b[1;34m()\u001b[0m\n\u001b[0;32m      <a href='vscode-notebook-cell:/c%3A/Users/Bhavini/Git%20Repos/kaggle-DA-MI/data-analytics-ue20cs312/test.ipynb#X56sZmlsZQ%3D%3D?line=0'>1</a>\u001b[0m \u001b[39mimport\u001b[39;00m \u001b[39mpmdarima\u001b[39;00m \u001b[39mas\u001b[39;00m \u001b[39mpm\u001b[39;00m \n\u001b[1;32m----> <a href='vscode-notebook-cell:/c%3A/Users/Bhavini/Git%20Repos/kaggle-DA-MI/data-analytics-ue20cs312/test.ipynb#X56sZmlsZQ%3D%3D?line=1'>2</a>\u001b[0m sxmodel \u001b[39m=\u001b[39m pm\u001b[39m.\u001b[39mauto_arima(df[[\u001b[39m'\u001b[39;49m\u001b[39mClose\u001b[39;49m\u001b[39m'\u001b[39;49m]], exogenous\u001b[39m=\u001b[39mdf[[\u001b[39m'\u001b[39m\u001b[39mVolume\u001b[39m\u001b[39m'\u001b[39m]],\n\u001b[0;32m      <a href='vscode-notebook-cell:/c%3A/Users/Bhavini/Git%20Repos/kaggle-DA-MI/data-analytics-ue20cs312/test.ipynb#X56sZmlsZQ%3D%3D?line=2'>3</a>\u001b[0m                            start_p\u001b[39m=\u001b[39m\u001b[39m1\u001b[39m, start_q\u001b[39m=\u001b[39m\u001b[39m1\u001b[39m,\n\u001b[0;32m      <a href='vscode-notebook-cell:/c%3A/Users/Bhavini/Git%20Repos/kaggle-DA-MI/data-analytics-ue20cs312/test.ipynb#X56sZmlsZQ%3D%3D?line=3'>4</a>\u001b[0m                            test\u001b[39m=\u001b[39m\u001b[39m'\u001b[39m\u001b[39madf\u001b[39m\u001b[39m'\u001b[39m,\n\u001b[0;32m      <a href='vscode-notebook-cell:/c%3A/Users/Bhavini/Git%20Repos/kaggle-DA-MI/data-analytics-ue20cs312/test.ipynb#X56sZmlsZQ%3D%3D?line=4'>5</a>\u001b[0m                            max_p\u001b[39m=\u001b[39m\u001b[39m3\u001b[39m, max_q\u001b[39m=\u001b[39m\u001b[39m3\u001b[39m, m\u001b[39m=\u001b[39m\u001b[39m12\u001b[39m,\n\u001b[0;32m      <a href='vscode-notebook-cell:/c%3A/Users/Bhavini/Git%20Repos/kaggle-DA-MI/data-analytics-ue20cs312/test.ipynb#X56sZmlsZQ%3D%3D?line=5'>6</a>\u001b[0m                            start_P\u001b[39m=\u001b[39m\u001b[39m0\u001b[39m, seasonal\u001b[39m=\u001b[39m\u001b[39mTrue\u001b[39;00m,\n\u001b[0;32m      <a href='vscode-notebook-cell:/c%3A/Users/Bhavini/Git%20Repos/kaggle-DA-MI/data-analytics-ue20cs312/test.ipynb#X56sZmlsZQ%3D%3D?line=6'>7</a>\u001b[0m                            d\u001b[39m=\u001b[39m\u001b[39mNone\u001b[39;00m, D\u001b[39m=\u001b[39m\u001b[39m1\u001b[39m, trace\u001b[39m=\u001b[39m\u001b[39mTrue\u001b[39;00m,\n\u001b[0;32m      <a href='vscode-notebook-cell:/c%3A/Users/Bhavini/Git%20Repos/kaggle-DA-MI/data-analytics-ue20cs312/test.ipynb#X56sZmlsZQ%3D%3D?line=7'>8</a>\u001b[0m                            error_action\u001b[39m=\u001b[39m\u001b[39m'\u001b[39m\u001b[39mignore\u001b[39m\u001b[39m'\u001b[39m,  \n\u001b[0;32m      <a href='vscode-notebook-cell:/c%3A/Users/Bhavini/Git%20Repos/kaggle-DA-MI/data-analytics-ue20cs312/test.ipynb#X56sZmlsZQ%3D%3D?line=8'>9</a>\u001b[0m                            suppress_warnings\u001b[39m=\u001b[39m\u001b[39mTrue\u001b[39;00m, \n\u001b[0;32m     <a href='vscode-notebook-cell:/c%3A/Users/Bhavini/Git%20Repos/kaggle-DA-MI/data-analytics-ue20cs312/test.ipynb#X56sZmlsZQ%3D%3D?line=9'>10</a>\u001b[0m                            stepwise\u001b[39m=\u001b[39m\u001b[39mTrue\u001b[39;00m)\n",
      "File \u001b[1;32mc:\\Users\\Bhavini\\AppData\\Local\\Programs\\Python\\Python310\\lib\\site-packages\\pandas\\core\\frame.py:3511\u001b[0m, in \u001b[0;36mDataFrame.__getitem__\u001b[1;34m(self, key)\u001b[0m\n\u001b[0;32m   3509\u001b[0m     \u001b[39mif\u001b[39;00m is_iterator(key):\n\u001b[0;32m   3510\u001b[0m         key \u001b[39m=\u001b[39m \u001b[39mlist\u001b[39m(key)\n\u001b[1;32m-> 3511\u001b[0m     indexer \u001b[39m=\u001b[39m \u001b[39mself\u001b[39;49m\u001b[39m.\u001b[39;49mcolumns\u001b[39m.\u001b[39;49m_get_indexer_strict(key, \u001b[39m\"\u001b[39;49m\u001b[39mcolumns\u001b[39;49m\u001b[39m\"\u001b[39;49m)[\u001b[39m1\u001b[39m]\n\u001b[0;32m   3513\u001b[0m \u001b[39m# take() does not accept boolean indexers\u001b[39;00m\n\u001b[0;32m   3514\u001b[0m \u001b[39mif\u001b[39;00m \u001b[39mgetattr\u001b[39m(indexer, \u001b[39m\"\u001b[39m\u001b[39mdtype\u001b[39m\u001b[39m\"\u001b[39m, \u001b[39mNone\u001b[39;00m) \u001b[39m==\u001b[39m \u001b[39mbool\u001b[39m:\n",
      "File \u001b[1;32mc:\\Users\\Bhavini\\AppData\\Local\\Programs\\Python\\Python310\\lib\\site-packages\\pandas\\core\\indexes\\base.py:5782\u001b[0m, in \u001b[0;36mIndex._get_indexer_strict\u001b[1;34m(self, key, axis_name)\u001b[0m\n\u001b[0;32m   5779\u001b[0m \u001b[39melse\u001b[39;00m:\n\u001b[0;32m   5780\u001b[0m     keyarr, indexer, new_indexer \u001b[39m=\u001b[39m \u001b[39mself\u001b[39m\u001b[39m.\u001b[39m_reindex_non_unique(keyarr)\n\u001b[1;32m-> 5782\u001b[0m \u001b[39mself\u001b[39;49m\u001b[39m.\u001b[39;49m_raise_if_missing(keyarr, indexer, axis_name)\n\u001b[0;32m   5784\u001b[0m keyarr \u001b[39m=\u001b[39m \u001b[39mself\u001b[39m\u001b[39m.\u001b[39mtake(indexer)\n\u001b[0;32m   5785\u001b[0m \u001b[39mif\u001b[39;00m \u001b[39misinstance\u001b[39m(key, Index):\n\u001b[0;32m   5786\u001b[0m     \u001b[39m# GH 42790 - Preserve name from an Index\u001b[39;00m\n",
      "File \u001b[1;32mc:\\Users\\Bhavini\\AppData\\Local\\Programs\\Python\\Python310\\lib\\site-packages\\pandas\\core\\indexes\\base.py:5842\u001b[0m, in \u001b[0;36mIndex._raise_if_missing\u001b[1;34m(self, key, indexer, axis_name)\u001b[0m\n\u001b[0;32m   5840\u001b[0m     \u001b[39mif\u001b[39;00m use_interval_msg:\n\u001b[0;32m   5841\u001b[0m         key \u001b[39m=\u001b[39m \u001b[39mlist\u001b[39m(key)\n\u001b[1;32m-> 5842\u001b[0m     \u001b[39mraise\u001b[39;00m \u001b[39mKeyError\u001b[39;00m(\u001b[39mf\u001b[39m\u001b[39m\"\u001b[39m\u001b[39mNone of [\u001b[39m\u001b[39m{\u001b[39;00mkey\u001b[39m}\u001b[39;00m\u001b[39m] are in the [\u001b[39m\u001b[39m{\u001b[39;00maxis_name\u001b[39m}\u001b[39;00m\u001b[39m]\u001b[39m\u001b[39m\"\u001b[39m)\n\u001b[0;32m   5844\u001b[0m not_found \u001b[39m=\u001b[39m \u001b[39mlist\u001b[39m(ensure_index(key)[missing_mask\u001b[39m.\u001b[39mnonzero()[\u001b[39m0\u001b[39m]]\u001b[39m.\u001b[39munique())\n\u001b[0;32m   5845\u001b[0m \u001b[39mraise\u001b[39;00m \u001b[39mKeyError\u001b[39;00m(\u001b[39mf\u001b[39m\u001b[39m\"\u001b[39m\u001b[39m{\u001b[39;00mnot_found\u001b[39m}\u001b[39;00m\u001b[39m not in index\u001b[39m\u001b[39m\"\u001b[39m)\n",
      "\u001b[1;31mKeyError\u001b[0m: \"None of [Index(['Close'], dtype='object')] are in the [columns]\""
     ]
    }
   ],
   "source": [
    "import pmdarima as pm \n",
    "sxmodel = pm.auto_arima(df[['Close']], exogenous=df[['Volume']],\n",
    "                           start_p=1, start_q=1,\n",
    "                           test='adf',\n",
    "                           max_p=3, max_q=3, m=12,\n",
    "                           start_P=0, seasonal=True,\n",
    "                           d=None, D=1, trace=True,\n",
    "                           error_action='ignore',  \n",
    "                           suppress_warnings=True, \n",
    "                           stepwise=True)\n"
   ]
  },
  {
   "cell_type": "code",
   "execution_count": null,
   "metadata": {},
   "outputs": [
    {
     "data": {
      "text/html": [
       "<table class=\"simpletable\">\n",
       "<caption>SARIMAX Results</caption>\n",
       "<tr>\n",
       "  <th>Dep. Variable:</th>                  <td>y</td>               <th>  No. Observations:  </th>   <td>1655</td>   \n",
       "</tr>\n",
       "<tr>\n",
       "  <th>Model:</th>           <td>SARIMAX(3, 0, 0)x(2, 1, 0, 12)</td> <th>  Log Likelihood     </th> <td>-7649.821</td>\n",
       "</tr>\n",
       "<tr>\n",
       "  <th>Date:</th>                   <td>Sat, 15 Oct 2022</td>        <th>  AIC                </th> <td>15313.642</td>\n",
       "</tr>\n",
       "<tr>\n",
       "  <th>Time:</th>                       <td>17:58:20</td>            <th>  BIC                </th> <td>15351.472</td>\n",
       "</tr>\n",
       "<tr>\n",
       "  <th>Sample:</th>                         <td>0</td>               <th>  HQIC               </th> <td>15327.671</td>\n",
       "</tr>\n",
       "<tr>\n",
       "  <th></th>                             <td> - 1655</td>            <th>                     </th>     <td> </td>    \n",
       "</tr>\n",
       "<tr>\n",
       "  <th>Covariance Type:</th>               <td>opg</td>              <th>                     </th>     <td> </td>    \n",
       "</tr>\n",
       "</table>\n",
       "<table class=\"simpletable\">\n",
       "<tr>\n",
       "      <td></td>         <th>coef</th>     <th>std err</th>      <th>z</th>      <th>P>|z|</th>  <th>[0.025</th>    <th>0.975]</th>  \n",
       "</tr>\n",
       "<tr>\n",
       "  <th>intercept</th> <td>    0.9593</td> <td>    0.651</td> <td>    1.473</td> <td> 0.141</td> <td>   -0.317</td> <td>    2.236</td>\n",
       "</tr>\n",
       "<tr>\n",
       "  <th>ar.L1</th>     <td>    0.9029</td> <td>    0.013</td> <td>   71.955</td> <td> 0.000</td> <td>    0.878</td> <td>    0.928</td>\n",
       "</tr>\n",
       "<tr>\n",
       "  <th>ar.L2</th>     <td>    0.1014</td> <td>    0.018</td> <td>    5.609</td> <td> 0.000</td> <td>    0.066</td> <td>    0.137</td>\n",
       "</tr>\n",
       "<tr>\n",
       "  <th>ar.L3</th>     <td>   -0.0567</td> <td>    0.015</td> <td>   -3.874</td> <td> 0.000</td> <td>   -0.085</td> <td>   -0.028</td>\n",
       "</tr>\n",
       "<tr>\n",
       "  <th>ar.S.L12</th>  <td>   -0.6322</td> <td>    0.016</td> <td>  -40.144</td> <td> 0.000</td> <td>   -0.663</td> <td>   -0.601</td>\n",
       "</tr>\n",
       "<tr>\n",
       "  <th>ar.S.L24</th>  <td>   -0.2973</td> <td>    0.019</td> <td>  -15.435</td> <td> 0.000</td> <td>   -0.335</td> <td>   -0.260</td>\n",
       "</tr>\n",
       "<tr>\n",
       "  <th>sigma2</th>    <td>  645.2755</td> <td>   10.774</td> <td>   59.894</td> <td> 0.000</td> <td>  624.160</td> <td>  666.391</td>\n",
       "</tr>\n",
       "</table>\n",
       "<table class=\"simpletable\">\n",
       "<tr>\n",
       "  <th>Ljung-Box (L1) (Q):</th>     <td>0.00</td> <th>  Jarque-Bera (JB):  </th> <td>3430.02</td>\n",
       "</tr>\n",
       "<tr>\n",
       "  <th>Prob(Q):</th>                <td>0.99</td> <th>  Prob(JB):          </th>  <td>0.00</td>  \n",
       "</tr>\n",
       "<tr>\n",
       "  <th>Heteroskedasticity (H):</th> <td>5.12</td> <th>  Skew:              </th>  <td>-0.21</td> \n",
       "</tr>\n",
       "<tr>\n",
       "  <th>Prob(H) (two-sided):</th>    <td>0.00</td> <th>  Kurtosis:          </th>  <td>10.07</td> \n",
       "</tr>\n",
       "</table><br/><br/>Warnings:<br/>[1] Covariance matrix calculated using the outer product of gradients (complex-step)."
      ],
      "text/plain": [
       "<class 'statsmodels.iolib.summary.Summary'>\n",
       "\"\"\"\n",
       "                                     SARIMAX Results                                      \n",
       "==========================================================================================\n",
       "Dep. Variable:                                  y   No. Observations:                 1655\n",
       "Model:             SARIMAX(3, 0, 0)x(2, 1, 0, 12)   Log Likelihood               -7649.821\n",
       "Date:                            Sat, 15 Oct 2022   AIC                          15313.642\n",
       "Time:                                    17:58:20   BIC                          15351.472\n",
       "Sample:                                         0   HQIC                         15327.671\n",
       "                                           - 1655                                         \n",
       "Covariance Type:                              opg                                         \n",
       "==============================================================================\n",
       "                 coef    std err          z      P>|z|      [0.025      0.975]\n",
       "------------------------------------------------------------------------------\n",
       "intercept      0.9593      0.651      1.473      0.141      -0.317       2.236\n",
       "ar.L1          0.9029      0.013     71.955      0.000       0.878       0.928\n",
       "ar.L2          0.1014      0.018      5.609      0.000       0.066       0.137\n",
       "ar.L3         -0.0567      0.015     -3.874      0.000      -0.085      -0.028\n",
       "ar.S.L12      -0.6322      0.016    -40.144      0.000      -0.663      -0.601\n",
       "ar.S.L24      -0.2973      0.019    -15.435      0.000      -0.335      -0.260\n",
       "sigma2       645.2755     10.774     59.894      0.000     624.160     666.391\n",
       "===================================================================================\n",
       "Ljung-Box (L1) (Q):                   0.00   Jarque-Bera (JB):              3430.02\n",
       "Prob(Q):                              0.99   Prob(JB):                         0.00\n",
       "Heteroskedasticity (H):               5.12   Skew:                            -0.21\n",
       "Prob(H) (two-sided):                  0.00   Kurtosis:                        10.07\n",
       "===================================================================================\n",
       "\n",
       "Warnings:\n",
       "[1] Covariance matrix calculated using the outer product of gradients (complex-step).\n",
       "\"\"\""
      ]
     },
     "execution_count": 31,
     "metadata": {},
     "output_type": "execute_result"
    }
   ],
   "source": [
    "sxmodel.summary()"
   ]
  },
  {
   "cell_type": "code",
   "execution_count": 80,
   "metadata": {},
   "outputs": [
    {
     "data": {
      "text/plain": [
       "1655    2470.692779\n",
       "1656    2450.808079\n",
       "1657    2427.839731\n",
       "1658    2414.633737\n",
       "1659    2419.465544\n",
       "           ...     \n",
       "2015    2758.624463\n",
       "2016    2746.064679\n",
       "2017    2722.381777\n",
       "2018    2725.174264\n",
       "2019    2730.959531\n",
       "Length: 365, dtype: float64"
      ]
     },
     "execution_count": 80,
     "metadata": {},
     "output_type": "execute_result"
    }
   ],
   "source": [
    "fitted, confint = sxmodel.predict(n_periods=365, \n",
    "                                  exogenous=np.tile(df['Volume'], 2).reshape(-1,1), \n",
    "                                  return_conf_int=True)\n",
    "\n",
    "index_of_fc = pd.date_range(start='8/1/2022',end='9/20/2022')\n",
    "fitted\n",
    "#confint\n",
    "#index_of_fc\n",
    "#pd.Series(fitted, index=index_of_fc)"
   ]
  },
  {
   "cell_type": "code",
   "execution_count": 93,
   "metadata": {},
   "outputs": [
    {
     "data": {
      "text/plain": [
       "ds        datetime64[ns]\n",
       "Open             float64\n",
       "High             float64\n",
       "Low              float64\n",
       "y                float64\n",
       "Volume             int64\n",
       "dtype: object"
      ]
     },
     "execution_count": 93,
     "metadata": {},
     "output_type": "execute_result"
    }
   ],
   "source": [
    "df.dtypes"
   ]
  },
  {
   "cell_type": "code",
   "execution_count": 94,
   "metadata": {},
   "outputs": [
    {
     "ename": "KeyError",
     "evalue": "('ds', 'y')",
     "output_type": "error",
     "traceback": [
      "\u001b[1;31m---------------------------------------------------------------------------\u001b[0m",
      "\u001b[1;31mKeyError\u001b[0m                                  Traceback (most recent call last)",
      "File \u001b[1;32mc:\\Users\\Bhavini\\AppData\\Local\\Programs\\Python\\Python310\\lib\\site-packages\\pandas\\core\\indexes\\base.py:3621\u001b[0m, in \u001b[0;36mIndex.get_loc\u001b[1;34m(self, key, method, tolerance)\u001b[0m\n\u001b[0;32m   3620\u001b[0m \u001b[39mtry\u001b[39;00m:\n\u001b[1;32m-> 3621\u001b[0m     \u001b[39mreturn\u001b[39;00m \u001b[39mself\u001b[39;49m\u001b[39m.\u001b[39;49m_engine\u001b[39m.\u001b[39;49mget_loc(casted_key)\n\u001b[0;32m   3622\u001b[0m \u001b[39mexcept\u001b[39;00m \u001b[39mKeyError\u001b[39;00m \u001b[39mas\u001b[39;00m err:\n",
      "File \u001b[1;32mc:\\Users\\Bhavini\\AppData\\Local\\Programs\\Python\\Python310\\lib\\site-packages\\pandas\\_libs\\index.pyx:136\u001b[0m, in \u001b[0;36mpandas._libs.index.IndexEngine.get_loc\u001b[1;34m()\u001b[0m\n",
      "File \u001b[1;32mc:\\Users\\Bhavini\\AppData\\Local\\Programs\\Python\\Python310\\lib\\site-packages\\pandas\\_libs\\index.pyx:163\u001b[0m, in \u001b[0;36mpandas._libs.index.IndexEngine.get_loc\u001b[1;34m()\u001b[0m\n",
      "File \u001b[1;32mpandas\\_libs\\hashtable_class_helper.pxi:5198\u001b[0m, in \u001b[0;36mpandas._libs.hashtable.PyObjectHashTable.get_item\u001b[1;34m()\u001b[0m\n",
      "File \u001b[1;32mpandas\\_libs\\hashtable_class_helper.pxi:5206\u001b[0m, in \u001b[0;36mpandas._libs.hashtable.PyObjectHashTable.get_item\u001b[1;34m()\u001b[0m\n",
      "\u001b[1;31mKeyError\u001b[0m: ('ds', 'y')",
      "\nThe above exception was the direct cause of the following exception:\n",
      "\u001b[1;31mKeyError\u001b[0m                                  Traceback (most recent call last)",
      "\u001b[1;32mc:\\Users\\Bhavini\\Git Repos\\kaggle-DA-MI\\data-analytics-ue20cs312\\test.ipynb Cell 44\u001b[0m in \u001b[0;36m<cell line: 2>\u001b[1;34m()\u001b[0m\n\u001b[0;32m      <a href='vscode-notebook-cell:/c%3A/Users/Bhavini/Git%20Repos/kaggle-DA-MI/data-analytics-ue20cs312/test.ipynb#X62sZmlsZQ%3D%3D?line=0'>1</a>\u001b[0m \u001b[39mimport\u001b[39;00m \u001b[39mpmdarima\u001b[39;00m \u001b[39mas\u001b[39;00m \u001b[39mpm\u001b[39;00m\n\u001b[1;32m----> <a href='vscode-notebook-cell:/c%3A/Users/Bhavini/Git%20Repos/kaggle-DA-MI/data-analytics-ue20cs312/test.ipynb#X62sZmlsZQ%3D%3D?line=1'>2</a>\u001b[0m smtest\u001b[39m=\u001b[39mdf[\u001b[39m'\u001b[39;49m\u001b[39mds\u001b[39;49m\u001b[39m'\u001b[39;49m,\u001b[39m'\u001b[39;49m\u001b[39my\u001b[39;49m\u001b[39m'\u001b[39;49m]\n\u001b[0;32m      <a href='vscode-notebook-cell:/c%3A/Users/Bhavini/Git%20Repos/kaggle-DA-MI/data-analytics-ue20cs312/test.ipynb#X62sZmlsZQ%3D%3D?line=2'>3</a>\u001b[0m smodel \u001b[39m=\u001b[39m pm\u001b[39m.\u001b[39mauto_arima(smtest, start_p\u001b[39m=\u001b[39m\u001b[39m1\u001b[39m, start_q\u001b[39m=\u001b[39m\u001b[39m1\u001b[39m,\n\u001b[0;32m      <a href='vscode-notebook-cell:/c%3A/Users/Bhavini/Git%20Repos/kaggle-DA-MI/data-analytics-ue20cs312/test.ipynb#X62sZmlsZQ%3D%3D?line=3'>4</a>\u001b[0m                          test\u001b[39m=\u001b[39m\u001b[39m'\u001b[39m\u001b[39madf\u001b[39m\u001b[39m'\u001b[39m,\n\u001b[0;32m      <a href='vscode-notebook-cell:/c%3A/Users/Bhavini/Git%20Repos/kaggle-DA-MI/data-analytics-ue20cs312/test.ipynb#X62sZmlsZQ%3D%3D?line=4'>5</a>\u001b[0m                          max_p\u001b[39m=\u001b[39m\u001b[39m3\u001b[39m, max_q\u001b[39m=\u001b[39m\u001b[39m3\u001b[39m, m\u001b[39m=\u001b[39m\u001b[39m365\u001b[39m,\n\u001b[1;32m   (...)\u001b[0m\n\u001b[0;32m      <a href='vscode-notebook-cell:/c%3A/Users/Bhavini/Git%20Repos/kaggle-DA-MI/data-analytics-ue20cs312/test.ipynb#X62sZmlsZQ%3D%3D?line=8'>9</a>\u001b[0m                          suppress_warnings\u001b[39m=\u001b[39m\u001b[39mTrue\u001b[39;00m, \n\u001b[0;32m     <a href='vscode-notebook-cell:/c%3A/Users/Bhavini/Git%20Repos/kaggle-DA-MI/data-analytics-ue20cs312/test.ipynb#X62sZmlsZQ%3D%3D?line=9'>10</a>\u001b[0m                          stepwise\u001b[39m=\u001b[39m\u001b[39mTrue\u001b[39;00m)\n",
      "File \u001b[1;32mc:\\Users\\Bhavini\\AppData\\Local\\Programs\\Python\\Python310\\lib\\site-packages\\pandas\\core\\frame.py:3505\u001b[0m, in \u001b[0;36mDataFrame.__getitem__\u001b[1;34m(self, key)\u001b[0m\n\u001b[0;32m   3503\u001b[0m \u001b[39mif\u001b[39;00m \u001b[39mself\u001b[39m\u001b[39m.\u001b[39mcolumns\u001b[39m.\u001b[39mnlevels \u001b[39m>\u001b[39m \u001b[39m1\u001b[39m:\n\u001b[0;32m   3504\u001b[0m     \u001b[39mreturn\u001b[39;00m \u001b[39mself\u001b[39m\u001b[39m.\u001b[39m_getitem_multilevel(key)\n\u001b[1;32m-> 3505\u001b[0m indexer \u001b[39m=\u001b[39m \u001b[39mself\u001b[39;49m\u001b[39m.\u001b[39;49mcolumns\u001b[39m.\u001b[39;49mget_loc(key)\n\u001b[0;32m   3506\u001b[0m \u001b[39mif\u001b[39;00m is_integer(indexer):\n\u001b[0;32m   3507\u001b[0m     indexer \u001b[39m=\u001b[39m [indexer]\n",
      "File \u001b[1;32mc:\\Users\\Bhavini\\AppData\\Local\\Programs\\Python\\Python310\\lib\\site-packages\\pandas\\core\\indexes\\base.py:3623\u001b[0m, in \u001b[0;36mIndex.get_loc\u001b[1;34m(self, key, method, tolerance)\u001b[0m\n\u001b[0;32m   3621\u001b[0m     \u001b[39mreturn\u001b[39;00m \u001b[39mself\u001b[39m\u001b[39m.\u001b[39m_engine\u001b[39m.\u001b[39mget_loc(casted_key)\n\u001b[0;32m   3622\u001b[0m \u001b[39mexcept\u001b[39;00m \u001b[39mKeyError\u001b[39;00m \u001b[39mas\u001b[39;00m err:\n\u001b[1;32m-> 3623\u001b[0m     \u001b[39mraise\u001b[39;00m \u001b[39mKeyError\u001b[39;00m(key) \u001b[39mfrom\u001b[39;00m \u001b[39merr\u001b[39;00m\n\u001b[0;32m   3624\u001b[0m \u001b[39mexcept\u001b[39;00m \u001b[39mTypeError\u001b[39;00m:\n\u001b[0;32m   3625\u001b[0m     \u001b[39m# If we have a listlike key, _check_indexing_error will raise\u001b[39;00m\n\u001b[0;32m   3626\u001b[0m     \u001b[39m#  InvalidIndexError. Otherwise we fall through and re-raise\u001b[39;00m\n\u001b[0;32m   3627\u001b[0m     \u001b[39m#  the TypeError.\u001b[39;00m\n\u001b[0;32m   3628\u001b[0m     \u001b[39mself\u001b[39m\u001b[39m.\u001b[39m_check_indexing_error(key)\n",
      "\u001b[1;31mKeyError\u001b[0m: ('ds', 'y')"
     ]
    }
   ],
   "source": [
    "import pmdarima as pm\n",
    "smtest=df['ds','y']\n",
    "smodel = pm.auto_arima(smtest, start_p=1, start_q=1,\n",
    "                         test='adf',\n",
    "                         max_p=3, max_q=3, m=365,\n",
    "                         start_P=0, seasonal=True,\n",
    "                         d=None, D=1, trace=True,\n",
    "                         error_action='ignore',  \n",
    "                         suppress_warnings=True, \n",
    "                         stepwise=True)\n",
    "\n",
    "# smodel.summary()"
   ]
  },
  {
   "cell_type": "code",
   "execution_count": null,
   "metadata": {},
   "outputs": [
    {
     "name": "stdout",
     "output_type": "stream",
     "text": [
      "Performing stepwise search to minimize aic\n"
     ]
    },
    {
     "ename": "KeyboardInterrupt",
     "evalue": "",
     "output_type": "error",
     "traceback": [
      "\u001b[1;31m---------------------------------------------------------------------------\u001b[0m\n",
      "\u001b[1;31mKeyboardInterrupt\u001b[0m                         Traceback (most recent call last)\n",
      "\u001b[1;32mc:\\Users\\Bhavini\\Git Repos\\kaggle-DA-MI\\data-analytics-ue20cs312\\arima.ipynb Cell 3\u001b[0m in \u001b[0;36m<cell line: 2>\u001b[1;34m()\u001b[0m\n",
      "\u001b[0;32m      <a href='vscode-notebook-cell:/c%3A/Users/Bhavini/Git%20Repos/kaggle-DA-MI/data-analytics-ue20cs312/arima.ipynb#W2sZmlsZQ%3D%3D?line=0'>1</a>\u001b[0m smtest\u001b[39m=\u001b[39mdf[[\u001b[39m'\u001b[39m\u001b[39mClose\u001b[39m\u001b[39m'\u001b[39m]]\n",
      "\u001b[1;32m----> <a href='vscode-notebook-cell:/c%3A/Users/Bhavini/Git%20Repos/kaggle-DA-MI/data-analytics-ue20cs312/arima.ipynb#W2sZmlsZQ%3D%3D?line=1'>2</a>\u001b[0m smodel \u001b[39m=\u001b[39m pm\u001b[39m.\u001b[39;49mauto_arima(smtest, start_p\u001b[39m=\u001b[39;49m\u001b[39m1\u001b[39;49m, start_q\u001b[39m=\u001b[39;49m\u001b[39m1\u001b[39;49m,\n",
      "\u001b[0;32m      <a href='vscode-notebook-cell:/c%3A/Users/Bhavini/Git%20Repos/kaggle-DA-MI/data-analytics-ue20cs312/arima.ipynb#W2sZmlsZQ%3D%3D?line=2'>3</a>\u001b[0m                          test\u001b[39m=\u001b[39;49m\u001b[39m'\u001b[39;49m\u001b[39madf\u001b[39;49m\u001b[39m'\u001b[39;49m,\n",
      "\u001b[0;32m      <a href='vscode-notebook-cell:/c%3A/Users/Bhavini/Git%20Repos/kaggle-DA-MI/data-analytics-ue20cs312/arima.ipynb#W2sZmlsZQ%3D%3D?line=3'>4</a>\u001b[0m                          max_p\u001b[39m=\u001b[39;49m\u001b[39m5\u001b[39;49m, max_q\u001b[39m=\u001b[39;49m\u001b[39m5\u001b[39;49m, m\u001b[39m=\u001b[39;49m\u001b[39m365\u001b[39;49m,\n",
      "\u001b[0;32m      <a href='vscode-notebook-cell:/c%3A/Users/Bhavini/Git%20Repos/kaggle-DA-MI/data-analytics-ue20cs312/arima.ipynb#W2sZmlsZQ%3D%3D?line=4'>5</a>\u001b[0m                          start_P\u001b[39m=\u001b[39;49m\u001b[39m0\u001b[39;49m, seasonal\u001b[39m=\u001b[39;49m\u001b[39mTrue\u001b[39;49;00m,\n",
      "\u001b[0;32m      <a href='vscode-notebook-cell:/c%3A/Users/Bhavini/Git%20Repos/kaggle-DA-MI/data-analytics-ue20cs312/arima.ipynb#W2sZmlsZQ%3D%3D?line=5'>6</a>\u001b[0m                          d\u001b[39m=\u001b[39;49m\u001b[39mNone\u001b[39;49;00m, D\u001b[39m=\u001b[39;49m\u001b[39m1\u001b[39;49m, trace\u001b[39m=\u001b[39;49m\u001b[39mTrue\u001b[39;49;00m,\n",
      "\u001b[0;32m      <a href='vscode-notebook-cell:/c%3A/Users/Bhavini/Git%20Repos/kaggle-DA-MI/data-analytics-ue20cs312/arima.ipynb#W2sZmlsZQ%3D%3D?line=6'>7</a>\u001b[0m                          error_action\u001b[39m=\u001b[39;49m\u001b[39m'\u001b[39;49m\u001b[39mignore\u001b[39;49m\u001b[39m'\u001b[39;49m,  \n",
      "\u001b[0;32m      <a href='vscode-notebook-cell:/c%3A/Users/Bhavini/Git%20Repos/kaggle-DA-MI/data-analytics-ue20cs312/arima.ipynb#W2sZmlsZQ%3D%3D?line=7'>8</a>\u001b[0m                          suppress_warnings\u001b[39m=\u001b[39;49m\u001b[39mTrue\u001b[39;49;00m, \n",
      "\u001b[0;32m      <a href='vscode-notebook-cell:/c%3A/Users/Bhavini/Git%20Repos/kaggle-DA-MI/data-analytics-ue20cs312/arima.ipynb#W2sZmlsZQ%3D%3D?line=8'>9</a>\u001b[0m                          stepwise\u001b[39m=\u001b[39;49m\u001b[39mTrue\u001b[39;49;00m)\n",
      "\u001b[0;32m     <a href='vscode-notebook-cell:/c%3A/Users/Bhavini/Git%20Repos/kaggle-DA-MI/data-analytics-ue20cs312/arima.ipynb#W2sZmlsZQ%3D%3D?line=10'>11</a>\u001b[0m smodel\u001b[39m.\u001b[39msummary()\n",
      "\n",
      "File \u001b[1;32mc:\\Users\\Bhavini\\AppData\\Local\\Programs\\Python\\Python310\\lib\\site-packages\\pmdarima\\arima\\auto.py:701\u001b[0m, in \u001b[0;36mauto_arima\u001b[1;34m(y, X, start_p, d, start_q, max_p, max_d, max_q, start_P, D, start_Q, max_P, max_D, max_Q, max_order, m, seasonal, stationary, information_criterion, alpha, test, seasonal_test, stepwise, n_jobs, start_params, trend, method, maxiter, offset_test_args, seasonal_test_args, suppress_warnings, error_action, trace, random, random_state, n_fits, return_valid_fits, out_of_sample_size, scoring, scoring_args, with_intercept, sarimax_kwargs, **fit_args)\u001b[0m\n",
      "\u001b[0;32m    669\u001b[0m     \u001b[39m# init the stepwise model wrapper\u001b[39;00m\n",
      "\u001b[0;32m    670\u001b[0m     search \u001b[39m=\u001b[39m solvers\u001b[39m.\u001b[39m_StepwiseFitWrapper(\n",
      "\u001b[0;32m    671\u001b[0m         y,\n",
      "\u001b[0;32m    672\u001b[0m         X\u001b[39m=\u001b[39mX,\n",
      "\u001b[1;32m   (...)\u001b[0m\n",
      "\u001b[0;32m    698\u001b[0m         \u001b[39m*\u001b[39m\u001b[39m*\u001b[39msarimax_kwargs,\n",
      "\u001b[0;32m    699\u001b[0m     )\n",
      "\u001b[1;32m--> 701\u001b[0m sorted_res \u001b[39m=\u001b[39m search\u001b[39m.\u001b[39;49msolve()\n",
      "\u001b[0;32m    702\u001b[0m \u001b[39mreturn\u001b[39;00m _return_wrapper(sorted_res, return_valid_fits, start, trace)\n",
      "\n",
      "File \u001b[1;32mc:\\Users\\Bhavini\\AppData\\Local\\Programs\\Python\\Python310\\lib\\site-packages\\pmdarima\\arima\\_auto_solvers.py:286\u001b[0m, in \u001b[0;36m_StepwiseFitWrapper.solve\u001b[1;34m(self)\u001b[0m\n",
      "\u001b[0;32m    282\u001b[0m     \u001b[39mprint\u001b[39m(\u001b[39m\"\u001b[39m\u001b[39mPerforming stepwise search to minimize \u001b[39m\u001b[39m%s\u001b[39;00m\u001b[39m\"\u001b[39m\n",
      "\u001b[0;32m    283\u001b[0m           \u001b[39m%\u001b[39m \u001b[39mself\u001b[39m\u001b[39m.\u001b[39minformation_criterion)\n",
      "\u001b[0;32m    285\u001b[0m \u001b[39m# fit a baseline p, d, q model\u001b[39;00m\n",
      "\u001b[1;32m--> 286\u001b[0m \u001b[39mself\u001b[39;49m\u001b[39m.\u001b[39;49m_do_fit((p, d, q), (P, D, Q, m))\n",
      "\u001b[0;32m    288\u001b[0m \u001b[39m# null model with possible constant\u001b[39;00m\n",
      "\u001b[0;32m    289\u001b[0m \u001b[39mif\u001b[39;00m \u001b[39mself\u001b[39m\u001b[39m.\u001b[39m_do_fit((\u001b[39m0\u001b[39m, d, \u001b[39m0\u001b[39m), (\u001b[39m0\u001b[39m, D, \u001b[39m0\u001b[39m, m)):\n",
      "\n",
      "File \u001b[1;32mc:\\Users\\Bhavini\\AppData\\Local\\Programs\\Python\\Python310\\lib\\site-packages\\pmdarima\\arima\\_auto_solvers.py:233\u001b[0m, in \u001b[0;36m_StepwiseFitWrapper._do_fit\u001b[1;34m(self, order, seasonal_order, constant)\u001b[0m\n",
      "\u001b[0;32m    228\u001b[0m \u001b[39mif\u001b[39;00m (order, seasonal_order, constant) \u001b[39mnot\u001b[39;00m \u001b[39min\u001b[39;00m \u001b[39mself\u001b[39m\u001b[39m.\u001b[39mresults_dict:\n",
      "\u001b[0;32m    229\u001b[0m \n",
      "\u001b[0;32m    230\u001b[0m     \u001b[39m# increment the number of fits\u001b[39;00m\n",
      "\u001b[0;32m    231\u001b[0m     \u001b[39mself\u001b[39m\u001b[39m.\u001b[39mk \u001b[39m+\u001b[39m\u001b[39m=\u001b[39m \u001b[39m1\u001b[39m\n",
      "\u001b[1;32m--> 233\u001b[0m     fit, fit_time, new_ic \u001b[39m=\u001b[39m \u001b[39mself\u001b[39;49m\u001b[39m.\u001b[39;49m_fit_arima(\n",
      "\u001b[0;32m    234\u001b[0m         order\u001b[39m=\u001b[39;49morder,\n",
      "\u001b[0;32m    235\u001b[0m         seasonal_order\u001b[39m=\u001b[39;49mseasonal_order,\n",
      "\u001b[0;32m    236\u001b[0m         with_intercept\u001b[39m=\u001b[39;49mconstant)\n",
      "\u001b[0;32m    238\u001b[0m     \u001b[39m# use the orders as a key to be hashed for\u001b[39;00m\n",
      "\u001b[0;32m    239\u001b[0m     \u001b[39m# the dictionary (pointing to fit)\u001b[39;00m\n",
      "\u001b[0;32m    240\u001b[0m     \u001b[39mself\u001b[39m\u001b[39m.\u001b[39mresults_dict[(order, seasonal_order, constant)] \u001b[39m=\u001b[39m fit\n",
      "\n",
      "File \u001b[1;32mc:\\Users\\Bhavini\\AppData\\Local\\Programs\\Python\\Python310\\lib\\site-packages\\pmdarima\\arima\\_auto_solvers.py:506\u001b[0m, in \u001b[0;36m_fit_candidate_model\u001b[1;34m(y, X, order, seasonal_order, start_params, trend, method, maxiter, fit_params, suppress_warnings, trace, error_action, out_of_sample_size, scoring, scoring_args, with_intercept, information_criterion, **kwargs)\u001b[0m\n",
      "\u001b[0;32m    498\u001b[0m fit \u001b[39m=\u001b[39m ARIMA(order\u001b[39m=\u001b[39morder, seasonal_order\u001b[39m=\u001b[39mseasonal_order,\n",
      "\u001b[0;32m    499\u001b[0m             start_params\u001b[39m=\u001b[39mstart_params, trend\u001b[39m=\u001b[39mtrend, method\u001b[39m=\u001b[39mmethod,\n",
      "\u001b[0;32m    500\u001b[0m             maxiter\u001b[39m=\u001b[39mmaxiter, suppress_warnings\u001b[39m=\u001b[39msuppress_warnings,\n",
      "\u001b[0;32m    501\u001b[0m             out_of_sample_size\u001b[39m=\u001b[39mout_of_sample_size, scoring\u001b[39m=\u001b[39mscoring,\n",
      "\u001b[0;32m    502\u001b[0m             scoring_args\u001b[39m=\u001b[39mscoring_args,\n",
      "\u001b[0;32m    503\u001b[0m             with_intercept\u001b[39m=\u001b[39mwith_intercept, \u001b[39m*\u001b[39m\u001b[39m*\u001b[39mkwargs)\n",
      "\u001b[0;32m    505\u001b[0m \u001b[39mtry\u001b[39;00m:\n",
      "\u001b[1;32m--> 506\u001b[0m     fit\u001b[39m.\u001b[39mfit(y, X\u001b[39m=\u001b[39mX, \u001b[39m*\u001b[39m\u001b[39m*\u001b[39mfit_params)\n",
      "\u001b[0;32m    508\u001b[0m \u001b[39m# for non-stationarity errors or singular matrices, return None\u001b[39;00m\n",
      "\u001b[0;32m    509\u001b[0m \u001b[39mexcept\u001b[39;00m (LinAlgError, \u001b[39mValueError\u001b[39;00m) \u001b[39mas\u001b[39;00m v:\n",
      "\n",
      "File \u001b[1;32mc:\\Users\\Bhavini\\AppData\\Local\\Programs\\Python\\Python310\\lib\\site-packages\\pmdarima\\arima\\arima.py:603\u001b[0m, in \u001b[0;36mARIMA.fit\u001b[1;34m(self, y, X, **fit_args)\u001b[0m\n",
      "\u001b[0;32m    600\u001b[0m         X \u001b[39m=\u001b[39m safe_indexing(X, \u001b[39mslice\u001b[39m(\u001b[39m0\u001b[39m, n_exog \u001b[39m-\u001b[39m cv))\n",
      "\u001b[0;32m    602\u001b[0m \u001b[39m# Internal call\u001b[39;00m\n",
      "\u001b[1;32m--> 603\u001b[0m \u001b[39mself\u001b[39m\u001b[39m.\u001b[39m_fit(y, X, \u001b[39m*\u001b[39m\u001b[39m*\u001b[39mfit_args)\n",
      "\u001b[0;32m    605\u001b[0m \u001b[39m# now make a forecast if we're validating to compute the\u001b[39;00m\n",
      "\u001b[0;32m    606\u001b[0m \u001b[39m# out-of-sample score\u001b[39;00m\n",
      "\u001b[0;32m    607\u001b[0m \u001b[39mif\u001b[39;00m cv_samples \u001b[39mis\u001b[39;00m \u001b[39mnot\u001b[39;00m \u001b[39mNone\u001b[39;00m:\n",
      "\u001b[0;32m    608\u001b[0m     \u001b[39m# get the predictions (use self.predict, which calls forecast\u001b[39;00m\n",
      "\u001b[0;32m    609\u001b[0m     \u001b[39m# from statsmodels internally)\u001b[39;00m\n",
      "\n",
      "File \u001b[1;32mc:\\Users\\Bhavini\\AppData\\Local\\Programs\\Python\\Python310\\lib\\site-packages\\pmdarima\\arima\\arima.py:524\u001b[0m, in \u001b[0;36mARIMA._fit\u001b[1;34m(self, y, X, **fit_args)\u001b[0m\n",
      "\u001b[0;32m    522\u001b[0m     \u001b[39mwith\u001b[39;00m warnings\u001b[39m.\u001b[39mcatch_warnings(record\u001b[39m=\u001b[39m\u001b[39mFalse\u001b[39;00m):\n",
      "\u001b[0;32m    523\u001b[0m         warnings\u001b[39m.\u001b[39msimplefilter(\u001b[39m'\u001b[39m\u001b[39mignore\u001b[39m\u001b[39m'\u001b[39m)\n",
      "\u001b[1;32m--> 524\u001b[0m         fit, \u001b[39mself\u001b[39m\u001b[39m.\u001b[39marima_res_ \u001b[39m=\u001b[39m _fit_wrapper()\n",
      "\u001b[0;32m    525\u001b[0m \u001b[39melse\u001b[39;00m:\n",
      "\u001b[0;32m    526\u001b[0m     fit, \u001b[39mself\u001b[39m\u001b[39m.\u001b[39marima_res_ \u001b[39m=\u001b[39m _fit_wrapper()\n",
      "\n",
      "File \u001b[1;32mc:\\Users\\Bhavini\\AppData\\Local\\Programs\\Python\\Python310\\lib\\site-packages\\pmdarima\\arima\\arima.py:510\u001b[0m, in \u001b[0;36mARIMA._fit.<locals>._fit_wrapper\u001b[1;34m()\u001b[0m\n",
      "\u001b[0;32m    507\u001b[0m _maxiter \u001b[39m=\u001b[39m fit_args\u001b[39m.\u001b[39mpop(\u001b[39m\"\u001b[39m\u001b[39mmaxiter\u001b[39m\u001b[39m\"\u001b[39m, _maxiter)\n",
      "\u001b[0;32m    509\u001b[0m disp \u001b[39m=\u001b[39m fit_args\u001b[39m.\u001b[39mpop(\u001b[39m\"\u001b[39m\u001b[39mdisp\u001b[39m\u001b[39m\"\u001b[39m, \u001b[39m0\u001b[39m)\n",
      "\u001b[1;32m--> 510\u001b[0m fitted \u001b[39m=\u001b[39m arima\u001b[39m.\u001b[39mfit(\n",
      "\u001b[0;32m    511\u001b[0m     start_params\u001b[39m=\u001b[39mstart_params,\n",
      "\u001b[0;32m    512\u001b[0m     method\u001b[39m=\u001b[39mmethod,\n",
      "\u001b[0;32m    513\u001b[0m     maxiter\u001b[39m=\u001b[39m_maxiter,\n",
      "\u001b[0;32m    514\u001b[0m     disp\u001b[39m=\u001b[39mdisp,\n",
      "\u001b[0;32m    515\u001b[0m     \u001b[39m*\u001b[39m\u001b[39m*\u001b[39mfit_args,\n",
      "\u001b[0;32m    516\u001b[0m )\n",
      "\u001b[0;32m    518\u001b[0m \u001b[39mreturn\u001b[39;00m arima, fitted\n",
      "\n",
      "File \u001b[1;32mc:\\Users\\Bhavini\\AppData\\Local\\Programs\\Python\\Python310\\lib\\site-packages\\statsmodels\\tsa\\statespace\\mlemodel.py:704\u001b[0m, in \u001b[0;36mMLEModel.fit\u001b[1;34m(self, start_params, transformed, includes_fixed, cov_type, cov_kwds, method, maxiter, full_output, disp, callback, return_params, optim_score, optim_complex_step, optim_hessian, flags, low_memory, **kwargs)\u001b[0m\n",
      "\u001b[0;32m    702\u001b[0m         flags[\u001b[39m'\u001b[39m\u001b[39mhessian_method\u001b[39m\u001b[39m'\u001b[39m] \u001b[39m=\u001b[39m optim_hessian\n",
      "\u001b[0;32m    703\u001b[0m     fargs \u001b[39m=\u001b[39m (flags,)\n",
      "\u001b[1;32m--> 704\u001b[0m     mlefit \u001b[39m=\u001b[39m \u001b[39msuper\u001b[39m(MLEModel, \u001b[39mself\u001b[39m)\u001b[39m.\u001b[39mfit(start_params, method\u001b[39m=\u001b[39mmethod,\n",
      "\u001b[0;32m    705\u001b[0m                                        fargs\u001b[39m=\u001b[39mfargs,\n",
      "\u001b[0;32m    706\u001b[0m                                        maxiter\u001b[39m=\u001b[39mmaxiter,\n",
      "\u001b[0;32m    707\u001b[0m                                        full_output\u001b[39m=\u001b[39mfull_output,\n",
      "\u001b[0;32m    708\u001b[0m                                        disp\u001b[39m=\u001b[39mdisp, callback\u001b[39m=\u001b[39mcallback,\n",
      "\u001b[0;32m    709\u001b[0m                                        skip_hessian\u001b[39m=\u001b[39m\u001b[39mTrue\u001b[39;00m, \u001b[39m*\u001b[39m\u001b[39m*\u001b[39mkwargs)\n",
      "\u001b[0;32m    711\u001b[0m \u001b[39m# Just return the fitted parameters if requested\u001b[39;00m\n",
      "\u001b[0;32m    712\u001b[0m \u001b[39mif\u001b[39;00m return_params:\n",
      "\n",
      "File \u001b[1;32mc:\\Users\\Bhavini\\AppData\\Local\\Programs\\Python\\Python310\\lib\\site-packages\\statsmodels\\base\\model.py:563\u001b[0m, in \u001b[0;36mLikelihoodModel.fit\u001b[1;34m(self, start_params, method, maxiter, full_output, disp, fargs, callback, retall, skip_hessian, **kwargs)\u001b[0m\n",
      "\u001b[0;32m    560\u001b[0m     \u001b[39mdel\u001b[39;00m kwargs[\u001b[39m\"\u001b[39m\u001b[39muse_t\u001b[39m\u001b[39m\"\u001b[39m]\n",
      "\u001b[0;32m    562\u001b[0m optimizer \u001b[39m=\u001b[39m Optimizer()\n",
      "\u001b[1;32m--> 563\u001b[0m xopt, retvals, optim_settings \u001b[39m=\u001b[39m optimizer\u001b[39m.\u001b[39;49m_fit(f, score, start_params,\n",
      "\u001b[0;32m    564\u001b[0m                                                fargs, kwargs,\n",
      "\u001b[0;32m    565\u001b[0m                                                hessian\u001b[39m=\u001b[39;49mhess,\n",
      "\u001b[0;32m    566\u001b[0m                                                method\u001b[39m=\u001b[39;49mmethod,\n",
      "\u001b[0;32m    567\u001b[0m                                                disp\u001b[39m=\u001b[39;49mdisp,\n",
      "\u001b[0;32m    568\u001b[0m                                                maxiter\u001b[39m=\u001b[39;49mmaxiter,\n",
      "\u001b[0;32m    569\u001b[0m                                                callback\u001b[39m=\u001b[39;49mcallback,\n",
      "\u001b[0;32m    570\u001b[0m                                                retall\u001b[39m=\u001b[39;49mretall,\n",
      "\u001b[0;32m    571\u001b[0m                                                full_output\u001b[39m=\u001b[39;49mfull_output)\n",
      "\u001b[0;32m    572\u001b[0m \u001b[39m# Restore cov_type, cov_kwds and use_t\u001b[39;00m\n",
      "\u001b[0;32m    573\u001b[0m optim_settings\u001b[39m.\u001b[39mupdate(kwds)\n",
      "\n",
      "File \u001b[1;32mc:\\Users\\Bhavini\\AppData\\Local\\Programs\\Python\\Python310\\lib\\site-packages\\statsmodels\\base\\optimizer.py:241\u001b[0m, in \u001b[0;36mOptimizer._fit\u001b[1;34m(self, objective, gradient, start_params, fargs, kwargs, hessian, method, maxiter, full_output, disp, callback, retall)\u001b[0m\n",
      "\u001b[0;32m    238\u001b[0m     fit_funcs\u001b[39m.\u001b[39mupdate(extra_fit_funcs)\n",
      "\u001b[0;32m    240\u001b[0m func \u001b[39m=\u001b[39m fit_funcs[method]\n",
      "\u001b[1;32m--> 241\u001b[0m xopt, retvals \u001b[39m=\u001b[39m func(objective, gradient, start_params, fargs, kwargs,\n",
      "\u001b[0;32m    242\u001b[0m                      disp\u001b[39m=\u001b[39;49mdisp, maxiter\u001b[39m=\u001b[39;49mmaxiter, callback\u001b[39m=\u001b[39;49mcallback,\n",
      "\u001b[0;32m    243\u001b[0m                      retall\u001b[39m=\u001b[39;49mretall, full_output\u001b[39m=\u001b[39;49mfull_output,\n",
      "\u001b[0;32m    244\u001b[0m                      hess\u001b[39m=\u001b[39;49mhessian)\n",
      "\u001b[0;32m    246\u001b[0m optim_settings \u001b[39m=\u001b[39m {\u001b[39m'\u001b[39m\u001b[39moptimizer\u001b[39m\u001b[39m'\u001b[39m: method, \u001b[39m'\u001b[39m\u001b[39mstart_params\u001b[39m\u001b[39m'\u001b[39m: start_params,\n",
      "\u001b[0;32m    247\u001b[0m                   \u001b[39m'\u001b[39m\u001b[39mmaxiter\u001b[39m\u001b[39m'\u001b[39m: maxiter, \u001b[39m'\u001b[39m\u001b[39mfull_output\u001b[39m\u001b[39m'\u001b[39m: full_output,\n",
      "\u001b[0;32m    248\u001b[0m                   \u001b[39m'\u001b[39m\u001b[39mdisp\u001b[39m\u001b[39m'\u001b[39m: disp, \u001b[39m'\u001b[39m\u001b[39mfargs\u001b[39m\u001b[39m'\u001b[39m: fargs, \u001b[39m'\u001b[39m\u001b[39mcallback\u001b[39m\u001b[39m'\u001b[39m: callback,\n",
      "\u001b[0;32m    249\u001b[0m                   \u001b[39m'\u001b[39m\u001b[39mretall\u001b[39m\u001b[39m'\u001b[39m: retall, \u001b[39m\"\u001b[39m\u001b[39mextra_fit_funcs\u001b[39m\u001b[39m\"\u001b[39m: extra_fit_funcs}\n",
      "\u001b[0;32m    250\u001b[0m optim_settings\u001b[39m.\u001b[39mupdate(kwargs)\n",
      "\n",
      "File \u001b[1;32mc:\\Users\\Bhavini\\AppData\\Local\\Programs\\Python\\Python310\\lib\\site-packages\\statsmodels\\base\\optimizer.py:651\u001b[0m, in \u001b[0;36m_fit_lbfgs\u001b[1;34m(f, score, start_params, fargs, kwargs, disp, maxiter, callback, retall, full_output, hess)\u001b[0m\n",
      "\u001b[0;32m    648\u001b[0m \u001b[39melif\u001b[39;00m approx_grad:\n",
      "\u001b[0;32m    649\u001b[0m     func \u001b[39m=\u001b[39m f\n",
      "\u001b[1;32m--> 651\u001b[0m retvals \u001b[39m=\u001b[39m optimize\u001b[39m.\u001b[39mfmin_l_bfgs_b(func, start_params, maxiter\u001b[39m=\u001b[39mmaxiter,\n",
      "\u001b[0;32m    652\u001b[0m                                  callback\u001b[39m=\u001b[39mcallback, args\u001b[39m=\u001b[39mfargs,\n",
      "\u001b[0;32m    653\u001b[0m                                  bounds\u001b[39m=\u001b[39mbounds, disp\u001b[39m=\u001b[39mdisp,\n",
      "\u001b[0;32m    654\u001b[0m                                  \u001b[39m*\u001b[39m\u001b[39m*\u001b[39mextra_kwargs)\n",
      "\u001b[0;32m    656\u001b[0m \u001b[39mif\u001b[39;00m full_output:\n",
      "\u001b[0;32m    657\u001b[0m     xopt, fopt, d \u001b[39m=\u001b[39m retvals\n",
      "\n",
      "File \u001b[1;32mc:\\Users\\Bhavini\\AppData\\Local\\Programs\\Python\\Python310\\lib\\site-packages\\scipy\\optimize\\_lbfgsb_py.py:199\u001b[0m, in \u001b[0;36mfmin_l_bfgs_b\u001b[1;34m(func, x0, fprime, args, approx_grad, bounds, m, factr, pgtol, epsilon, iprint, maxfun, maxiter, disp, callback, maxls)\u001b[0m\n",
      "\u001b[0;32m    187\u001b[0m     disp \u001b[39m=\u001b[39m iprint\n",
      "\u001b[0;32m    188\u001b[0m opts \u001b[39m=\u001b[39m {\u001b[39m'\u001b[39m\u001b[39mdisp\u001b[39m\u001b[39m'\u001b[39m: disp,\n",
      "\u001b[0;32m    189\u001b[0m         \u001b[39m'\u001b[39m\u001b[39miprint\u001b[39m\u001b[39m'\u001b[39m: iprint,\n",
      "\u001b[0;32m    190\u001b[0m         \u001b[39m'\u001b[39m\u001b[39mmaxcor\u001b[39m\u001b[39m'\u001b[39m: m,\n",
      "\u001b[1;32m   (...)\u001b[0m\n",
      "\u001b[0;32m    196\u001b[0m         \u001b[39m'\u001b[39m\u001b[39mcallback\u001b[39m\u001b[39m'\u001b[39m: callback,\n",
      "\u001b[0;32m    197\u001b[0m         \u001b[39m'\u001b[39m\u001b[39mmaxls\u001b[39m\u001b[39m'\u001b[39m: maxls}\n",
      "\u001b[1;32m--> 199\u001b[0m res \u001b[39m=\u001b[39m _minimize_lbfgsb(fun, x0, args\u001b[39m=\u001b[39margs, jac\u001b[39m=\u001b[39mjac, bounds\u001b[39m=\u001b[39mbounds,\n",
      "\u001b[0;32m    200\u001b[0m                        \u001b[39m*\u001b[39m\u001b[39m*\u001b[39mopts)\n",
      "\u001b[0;32m    201\u001b[0m d \u001b[39m=\u001b[39m {\u001b[39m'\u001b[39m\u001b[39mgrad\u001b[39m\u001b[39m'\u001b[39m: res[\u001b[39m'\u001b[39m\u001b[39mjac\u001b[39m\u001b[39m'\u001b[39m],\n",
      "\u001b[0;32m    202\u001b[0m      \u001b[39m'\u001b[39m\u001b[39mtask\u001b[39m\u001b[39m'\u001b[39m: res[\u001b[39m'\u001b[39m\u001b[39mmessage\u001b[39m\u001b[39m'\u001b[39m],\n",
      "\u001b[0;32m    203\u001b[0m      \u001b[39m'\u001b[39m\u001b[39mfuncalls\u001b[39m\u001b[39m'\u001b[39m: res[\u001b[39m'\u001b[39m\u001b[39mnfev\u001b[39m\u001b[39m'\u001b[39m],\n",
      "\u001b[0;32m    204\u001b[0m      \u001b[39m'\u001b[39m\u001b[39mnit\u001b[39m\u001b[39m'\u001b[39m: res[\u001b[39m'\u001b[39m\u001b[39mnit\u001b[39m\u001b[39m'\u001b[39m],\n",
      "\u001b[0;32m    205\u001b[0m      \u001b[39m'\u001b[39m\u001b[39mwarnflag\u001b[39m\u001b[39m'\u001b[39m: res[\u001b[39m'\u001b[39m\u001b[39mstatus\u001b[39m\u001b[39m'\u001b[39m]}\n",
      "\u001b[0;32m    206\u001b[0m f \u001b[39m=\u001b[39m res[\u001b[39m'\u001b[39m\u001b[39mfun\u001b[39m\u001b[39m'\u001b[39m]\n",
      "\n",
      "File \u001b[1;32mc:\\Users\\Bhavini\\AppData\\Local\\Programs\\Python\\Python310\\lib\\site-packages\\scipy\\optimize\\_lbfgsb_py.py:362\u001b[0m, in \u001b[0;36m_minimize_lbfgsb\u001b[1;34m(fun, x0, args, jac, bounds, disp, maxcor, ftol, gtol, eps, maxfun, maxiter, iprint, callback, maxls, finite_diff_rel_step, **unknown_options)\u001b[0m\n",
      "\u001b[0;32m    356\u001b[0m task_str \u001b[39m=\u001b[39m task\u001b[39m.\u001b[39mtobytes()\n",
      "\u001b[0;32m    357\u001b[0m \u001b[39mif\u001b[39;00m task_str\u001b[39m.\u001b[39mstartswith(\u001b[39mb\u001b[39m\u001b[39m'\u001b[39m\u001b[39mFG\u001b[39m\u001b[39m'\u001b[39m):\n",
      "\u001b[0;32m    358\u001b[0m     \u001b[39m# The minimization routine wants f and g at the current x.\u001b[39;00m\n",
      "\u001b[0;32m    359\u001b[0m     \u001b[39m# Note that interruptions due to maxfun are postponed\u001b[39;00m\n",
      "\u001b[0;32m    360\u001b[0m     \u001b[39m# until the completion of the current minimization iteration.\u001b[39;00m\n",
      "\u001b[0;32m    361\u001b[0m     \u001b[39m# Overwrite f and g:\u001b[39;00m\n",
      "\u001b[1;32m--> 362\u001b[0m     f, g \u001b[39m=\u001b[39m func_and_grad(x)\n",
      "\u001b[0;32m    363\u001b[0m \u001b[39melif\u001b[39;00m task_str\u001b[39m.\u001b[39mstartswith(\u001b[39mb\u001b[39m\u001b[39m'\u001b[39m\u001b[39mNEW_X\u001b[39m\u001b[39m'\u001b[39m):\n",
      "\u001b[0;32m    364\u001b[0m     \u001b[39m# new iteration\u001b[39;00m\n",
      "\u001b[0;32m    365\u001b[0m     n_iterations \u001b[39m+\u001b[39m\u001b[39m=\u001b[39m \u001b[39m1\u001b[39m\n",
      "\n",
      "File \u001b[1;32mc:\\Users\\Bhavini\\AppData\\Local\\Programs\\Python\\Python310\\lib\\site-packages\\scipy\\optimize\\_differentiable_functions.py:286\u001b[0m, in \u001b[0;36mScalarFunction.fun_and_grad\u001b[1;34m(self, x)\u001b[0m\n",
      "\u001b[0;32m    284\u001b[0m     \u001b[39mself\u001b[39m\u001b[39m.\u001b[39m_update_x_impl(x)\n",
      "\u001b[0;32m    285\u001b[0m \u001b[39mself\u001b[39m\u001b[39m.\u001b[39m_update_fun()\n",
      "\u001b[1;32m--> 286\u001b[0m \u001b[39mself\u001b[39;49m\u001b[39m.\u001b[39;49m_update_grad()\n",
      "\u001b[0;32m    287\u001b[0m \u001b[39mreturn\u001b[39;00m \u001b[39mself\u001b[39m\u001b[39m.\u001b[39mf, \u001b[39mself\u001b[39m\u001b[39m.\u001b[39mg\n",
      "\n",
      "File \u001b[1;32mc:\\Users\\Bhavini\\AppData\\Local\\Programs\\Python\\Python310\\lib\\site-packages\\scipy\\optimize\\_differentiable_functions.py:256\u001b[0m, in \u001b[0;36mScalarFunction._update_grad\u001b[1;34m(self)\u001b[0m\n",
      "\u001b[0;32m    254\u001b[0m \u001b[39mdef\u001b[39;00m \u001b[39m_update_grad\u001b[39m(\u001b[39mself\u001b[39m):\n",
      "\u001b[0;32m    255\u001b[0m     \u001b[39mif\u001b[39;00m \u001b[39mnot\u001b[39;00m \u001b[39mself\u001b[39m\u001b[39m.\u001b[39mg_updated:\n",
      "\u001b[1;32m--> 256\u001b[0m         \u001b[39mself\u001b[39;49m\u001b[39m.\u001b[39;49m_update_grad_impl()\n",
      "\u001b[0;32m    257\u001b[0m         \u001b[39mself\u001b[39m\u001b[39m.\u001b[39mg_updated \u001b[39m=\u001b[39m \u001b[39mTrue\u001b[39;00m\n",
      "\n",
      "File \u001b[1;32mc:\\Users\\Bhavini\\AppData\\Local\\Programs\\Python\\Python310\\lib\\site-packages\\scipy\\optimize\\_differentiable_functions.py:173\u001b[0m, in \u001b[0;36mScalarFunction.__init__.<locals>.update_grad\u001b[1;34m()\u001b[0m\n",
      "\u001b[0;32m    171\u001b[0m \u001b[39mself\u001b[39m\u001b[39m.\u001b[39m_update_fun()\n",
      "\u001b[0;32m    172\u001b[0m \u001b[39mself\u001b[39m\u001b[39m.\u001b[39mngev \u001b[39m+\u001b[39m\u001b[39m=\u001b[39m \u001b[39m1\u001b[39m\n",
      "\u001b[1;32m--> 173\u001b[0m \u001b[39mself\u001b[39m\u001b[39m.\u001b[39mg \u001b[39m=\u001b[39m approx_derivative(fun_wrapped, \u001b[39mself\u001b[39m\u001b[39m.\u001b[39mx, f0\u001b[39m=\u001b[39m\u001b[39mself\u001b[39m\u001b[39m.\u001b[39mf,\n",
      "\u001b[0;32m    174\u001b[0m                            \u001b[39m*\u001b[39m\u001b[39m*\u001b[39mfinite_diff_options)\n",
      "\n",
      "File \u001b[1;32mc:\\Users\\Bhavini\\AppData\\Local\\Programs\\Python\\Python310\\lib\\site-packages\\scipy\\optimize\\_numdiff.py:505\u001b[0m, in \u001b[0;36mapprox_derivative\u001b[1;34m(fun, x0, method, rel_step, abs_step, f0, bounds, sparsity, as_linear_operator, args, kwargs)\u001b[0m\n",
      "\u001b[0;32m    502\u001b[0m     use_one_sided \u001b[39m=\u001b[39m \u001b[39mFalse\u001b[39;00m\n",
      "\u001b[0;32m    504\u001b[0m \u001b[39mif\u001b[39;00m sparsity \u001b[39mis\u001b[39;00m \u001b[39mNone\u001b[39;00m:\n",
      "\u001b[1;32m--> 505\u001b[0m     \u001b[39mreturn\u001b[39;00m _dense_difference(fun_wrapped, x0, f0, h,\n",
      "\u001b[0;32m    506\u001b[0m                              use_one_sided, method)\n",
      "\u001b[0;32m    507\u001b[0m \u001b[39melse\u001b[39;00m:\n",
      "\u001b[0;32m    508\u001b[0m     \u001b[39mif\u001b[39;00m \u001b[39mnot\u001b[39;00m issparse(sparsity) \u001b[39mand\u001b[39;00m \u001b[39mlen\u001b[39m(sparsity) \u001b[39m==\u001b[39m \u001b[39m2\u001b[39m:\n",
      "\n",
      "File \u001b[1;32mc:\\Users\\Bhavini\\AppData\\Local\\Programs\\Python\\Python310\\lib\\site-packages\\scipy\\optimize\\_numdiff.py:576\u001b[0m, in \u001b[0;36m_dense_difference\u001b[1;34m(fun, x0, f0, h, use_one_sided, method)\u001b[0m\n",
      "\u001b[0;32m    574\u001b[0m     x \u001b[39m=\u001b[39m x0 \u001b[39m+\u001b[39m h_vecs[i]\n",
      "\u001b[0;32m    575\u001b[0m     dx \u001b[39m=\u001b[39m x[i] \u001b[39m-\u001b[39m x0[i]  \u001b[39m# Recompute dx as exactly representable number.\u001b[39;00m\n",
      "\u001b[1;32m--> 576\u001b[0m     df \u001b[39m=\u001b[39m fun(x) \u001b[39m-\u001b[39m f0\n",
      "\u001b[0;32m    577\u001b[0m \u001b[39melif\u001b[39;00m method \u001b[39m==\u001b[39m \u001b[39m'\u001b[39m\u001b[39m3-point\u001b[39m\u001b[39m'\u001b[39m \u001b[39mand\u001b[39;00m use_one_sided[i]:\n",
      "\u001b[0;32m    578\u001b[0m     x1 \u001b[39m=\u001b[39m x0 \u001b[39m+\u001b[39m h_vecs[i]\n",
      "\n",
      "File \u001b[1;32mc:\\Users\\Bhavini\\AppData\\Local\\Programs\\Python\\Python310\\lib\\site-packages\\scipy\\optimize\\_numdiff.py:456\u001b[0m, in \u001b[0;36mapprox_derivative.<locals>.fun_wrapped\u001b[1;34m(x)\u001b[0m\n",
      "\u001b[0;32m    455\u001b[0m \u001b[39mdef\u001b[39;00m \u001b[39mfun_wrapped\u001b[39m(x):\n",
      "\u001b[1;32m--> 456\u001b[0m     f \u001b[39m=\u001b[39m np\u001b[39m.\u001b[39matleast_1d(fun(x, \u001b[39m*\u001b[39margs, \u001b[39m*\u001b[39m\u001b[39m*\u001b[39mkwargs))\n",
      "\u001b[0;32m    457\u001b[0m     \u001b[39mif\u001b[39;00m f\u001b[39m.\u001b[39mndim \u001b[39m>\u001b[39m \u001b[39m1\u001b[39m:\n",
      "\u001b[0;32m    458\u001b[0m         \u001b[39mraise\u001b[39;00m \u001b[39mRuntimeError\u001b[39;00m(\u001b[39m\"\u001b[39m\u001b[39m`fun` return value has \u001b[39m\u001b[39m\"\u001b[39m\n",
      "\u001b[0;32m    459\u001b[0m                            \u001b[39m\"\u001b[39m\u001b[39mmore than 1 dimension.\u001b[39m\u001b[39m\"\u001b[39m)\n",
      "\n",
      "File \u001b[1;32mc:\\Users\\Bhavini\\AppData\\Local\\Programs\\Python\\Python310\\lib\\site-packages\\scipy\\optimize\\_differentiable_functions.py:137\u001b[0m, in \u001b[0;36mScalarFunction.__init__.<locals>.fun_wrapped\u001b[1;34m(x)\u001b[0m\n",
      "\u001b[0;32m    133\u001b[0m \u001b[39mself\u001b[39m\u001b[39m.\u001b[39mnfev \u001b[39m+\u001b[39m\u001b[39m=\u001b[39m \u001b[39m1\u001b[39m\n",
      "\u001b[0;32m    134\u001b[0m \u001b[39m# Send a copy because the user may overwrite it.\u001b[39;00m\n",
      "\u001b[0;32m    135\u001b[0m \u001b[39m# Overwriting results in undefined behaviour because\u001b[39;00m\n",
      "\u001b[0;32m    136\u001b[0m \u001b[39m# fun(self.x) will change self.x, with the two no longer linked.\u001b[39;00m\n",
      "\u001b[1;32m--> 137\u001b[0m fx \u001b[39m=\u001b[39m fun(np\u001b[39m.\u001b[39;49mcopy(x), \u001b[39m*\u001b[39;49margs)\n",
      "\u001b[0;32m    138\u001b[0m \u001b[39m# Make sure the function returns a true scalar\u001b[39;00m\n",
      "\u001b[0;32m    139\u001b[0m \u001b[39mif\u001b[39;00m \u001b[39mnot\u001b[39;00m np\u001b[39m.\u001b[39misscalar(fx):\n",
      "\n",
      "File \u001b[1;32mc:\\Users\\Bhavini\\AppData\\Local\\Programs\\Python\\Python310\\lib\\site-packages\\statsmodels\\base\\model.py:531\u001b[0m, in \u001b[0;36mLikelihoodModel.fit.<locals>.f\u001b[1;34m(params, *args)\u001b[0m\n",
      "\u001b[0;32m    530\u001b[0m \u001b[39mdef\u001b[39;00m \u001b[39mf\u001b[39m(params, \u001b[39m*\u001b[39margs):\n",
      "\u001b[1;32m--> 531\u001b[0m     \u001b[39mreturn\u001b[39;00m \u001b[39m-\u001b[39m\u001b[39mself\u001b[39;49m\u001b[39m.\u001b[39;49mloglike(params, \u001b[39m*\u001b[39;49margs) \u001b[39m/\u001b[39m nobs\n",
      "\n",
      "File \u001b[1;32mc:\\Users\\Bhavini\\AppData\\Local\\Programs\\Python\\Python310\\lib\\site-packages\\statsmodels\\tsa\\statespace\\mlemodel.py:939\u001b[0m, in \u001b[0;36mMLEModel.loglike\u001b[1;34m(self, params, *args, **kwargs)\u001b[0m\n",
      "\u001b[0;32m    936\u001b[0m \u001b[39mif\u001b[39;00m complex_step:\n",
      "\u001b[0;32m    937\u001b[0m     kwargs[\u001b[39m'\u001b[39m\u001b[39minversion_method\u001b[39m\u001b[39m'\u001b[39m] \u001b[39m=\u001b[39m INVERT_UNIVARIATE \u001b[39m|\u001b[39m SOLVE_LU\n",
      "\u001b[1;32m--> 939\u001b[0m loglike \u001b[39m=\u001b[39m \u001b[39mself\u001b[39m\u001b[39m.\u001b[39mssm\u001b[39m.\u001b[39mloglike(complex_step\u001b[39m=\u001b[39mcomplex_step, \u001b[39m*\u001b[39m\u001b[39m*\u001b[39mkwargs)\n",
      "\u001b[0;32m    941\u001b[0m \u001b[39m# Koopman, Shephard, and Doornik recommend maximizing the average\u001b[39;00m\n",
      "\u001b[0;32m    942\u001b[0m \u001b[39m# likelihood to avoid scale issues, but the averaging is done\u001b[39;00m\n",
      "\u001b[0;32m    943\u001b[0m \u001b[39m# automatically in the base model `fit` method\u001b[39;00m\n",
      "\u001b[0;32m    944\u001b[0m \u001b[39mreturn\u001b[39;00m loglike\n",
      "\n",
      "File \u001b[1;32mc:\\Users\\Bhavini\\AppData\\Local\\Programs\\Python\\Python310\\lib\\site-packages\\statsmodels\\tsa\\statespace\\kalman_filter.py:983\u001b[0m, in \u001b[0;36mKalmanFilter.loglike\u001b[1;34m(self, **kwargs)\u001b[0m\n",
      "\u001b[0;32m    967\u001b[0m \u001b[39mr\u001b[39m\u001b[39m\"\"\"\u001b[39;00m\n",
      "\u001b[0;32m    968\u001b[0m \u001b[39mCalculate the loglikelihood associated with the statespace model.\u001b[39;00m\n",
      "\u001b[0;32m    969\u001b[0m \n",
      "\u001b[1;32m   (...)\u001b[0m\n",
      "\u001b[0;32m    979\u001b[0m \u001b[39m    The joint loglikelihood.\u001b[39;00m\n",
      "\u001b[0;32m    980\u001b[0m \u001b[39m\"\"\"\u001b[39;00m\n",
      "\u001b[0;32m    981\u001b[0m kwargs\u001b[39m.\u001b[39msetdefault(\u001b[39m'\u001b[39m\u001b[39mconserve_memory\u001b[39m\u001b[39m'\u001b[39m,\n",
      "\u001b[0;32m    982\u001b[0m                   MEMORY_CONSERVE \u001b[39m^\u001b[39m MEMORY_NO_LIKELIHOOD)\n",
      "\u001b[1;32m--> 983\u001b[0m kfilter \u001b[39m=\u001b[39m \u001b[39mself\u001b[39m\u001b[39m.\u001b[39m_filter(\u001b[39m*\u001b[39m\u001b[39m*\u001b[39mkwargs)\n",
      "\u001b[0;32m    984\u001b[0m loglikelihood_burn \u001b[39m=\u001b[39m kwargs\u001b[39m.\u001b[39mget(\u001b[39m'\u001b[39m\u001b[39mloglikelihood_burn\u001b[39m\u001b[39m'\u001b[39m,\n",
      "\u001b[0;32m    985\u001b[0m                                 \u001b[39mself\u001b[39m\u001b[39m.\u001b[39mloglikelihood_burn)\n",
      "\u001b[0;32m    986\u001b[0m \u001b[39mif\u001b[39;00m \u001b[39mnot\u001b[39;00m (kwargs[\u001b[39m'\u001b[39m\u001b[39mconserve_memory\u001b[39m\u001b[39m'\u001b[39m] \u001b[39m&\u001b[39m MEMORY_NO_LIKELIHOOD):\n",
      "\n",
      "\u001b[1;31mKeyboardInterrupt\u001b[0m: "
     ]
    }
   ],
   "source": [
    "smtest=df[['Close']]\n",
    "smodel = pm.auto_arima(smtest, start_p=1, start_q=1,\n",
    "                         test='adf',\n",
    "                         max_p=5, max_q=5, m=365,\n",
    "                         start_P=0, seasonal=True,\n",
    "                         d=None, D=1, trace=True,\n",
    "                         error_action='ignore',  \n",
    "                         suppress_warnings=True, \n",
    "                         stepwise=True)\n",
    "\n",
    "smodel.summary()"
   ]
  }
 ],
 "metadata": {
  "kernelspec": {
   "display_name": "Python 3.10.4 64-bit",
   "language": "python",
   "name": "python3"
  },
  "language_info": {
   "codemirror_mode": {
    "name": "ipython",
    "version": 3
   },
   "file_extension": ".py",
   "mimetype": "text/x-python",
   "name": "python",
   "nbconvert_exporter": "python",
   "pygments_lexer": "ipython3",
   "version": "3.10.4"
  },
  "orig_nbformat": 4,
  "vscode": {
   "interpreter": {
    "hash": "6636ba45faffc219cae2b87741d963292a78c82ff95ce9fb53c4afc5b5891e1b"
   }
  }
 },
 "nbformat": 4,
 "nbformat_minor": 2
}
